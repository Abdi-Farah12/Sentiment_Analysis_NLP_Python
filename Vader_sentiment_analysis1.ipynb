{
 "cells": [
  {
   "cell_type": "markdown",
   "id": "46fcc342",
   "metadata": {},
   "source": [
    "## Using Python to extract sentiment scores from customer reviews"
   ]
  },
  {
   "cell_type": "markdown",
   "id": "26969258",
   "metadata": {},
   "source": [
    "**This is the solution to the activity.**\n",
    "\n",
    "An interior design company wants to gain more insights into how its customers are experiencing its products and services, and they’ve asked you to help! To get a brief overview of existing customer satisfaction, they would like to determine the percentage of customer reviews that express negative, positive, or neutral sentiments. The company has received several reviews from past customers on the Google business page.\n",
    "\n",
    "We will use the vaderSentiment library, an existing Python lexicon and rule-based sentiment analysis tool, to extract sentiment scores from these customer reviews. VADER stands for Valence Aware Dictionary and sEntiment Reasoner. It relies on a dictionary and a set of rules to extract meaning from text. The vaderSentiment library is optimised to analyse sentiments expressed in informal channels such as customer reviews and social media commentary. This means that it processes text with emojis, slang, and unusual punctuation really well. Since this library doesn’t require training, you can use it right away for this activity."
   ]
  },
  {
   "cell_type": "markdown",
   "id": "e0ec3ed0",
   "metadata": {},
   "source": [
    "## 1. Prepare your workstation"
   ]
  },
  {
   "cell_type": "code",
   "execution_count": null,
   "id": "19b7bc2c",
   "metadata": {},
   "outputs": [],
   "source": [
    "# Install vaderSentiment tool\n",
    "!pip install VaderSentiment"
   ]
  },
  {
   "cell_type": "code",
   "execution_count": 1,
   "id": "1189a268",
   "metadata": {},
   "outputs": [],
   "source": [
    "# Import the necessary class.\n",
    "from vaderSentiment.vaderSentiment import SentimentIntensityAnalyzer\n",
    "\n",
    "# Create an object from the class.\n",
    "sia = SentimentIntensityAnalyzer()"
   ]
  },
  {
   "cell_type": "markdown",
   "id": "8a657692",
   "metadata": {},
   "source": [
    "## 2. Define the input data"
   ]
  },
  {
   "cell_type": "code",
   "execution_count": 2,
   "id": "78df595c",
   "metadata": {},
   "outputs": [],
   "source": [
    "# Define the input data.\n",
    "sentences = [\n",
    "    \"Excellent customer service. Also loved the amazing showroom where you can get a real feel of the top quality furniture and get inspiration for room designs.\",\n",
    "    \"I found the sales person to be quite rude and stuck up... don't think she realised I know all the suppliers she uses. I got the sofa & chair elsewhere. I will not be coming back\",\n",
    "    \"Thank you for finding replacement crystals for my chandelier.\",\n",
    "    \"I have worked with the team in several houses. All work was carried out on time and to budget.\"]"
   ]
  },
  {
   "cell_type": "markdown",
   "id": "abb192e4",
   "metadata": {},
   "source": [
    "## 3. Apply sentiment analysis"
   ]
  },
  {
   "cell_type": "code",
   "execution_count": 7,
   "id": "6a7980fd",
   "metadata": {},
   "outputs": [
    {
     "name": "stdout",
     "output_type": "stream",
     "text": [
      "Excellent customer service. Also loved the amazing showroom where you can get a real feel of the top quality furniture and get inspiration for room designs. 0.9485\n",
      "I found the sales person to be quite rude and stuck up... don't think she realised I know all the suppliers she uses. I got the sofa & chair elsewhere. I will not be coming back -0.6764\n",
      "Thank you for finding replacement crystals for my chandelier.---- 0.3612\n",
      "I have worked with the team in several houses. All work was carried out on time and to budget. 0.0\n"
     ]
    }
   ],
   "source": [
    "# Apply sentiment analysis.\n",
    "for sentence in sentences:\n",
    "    score = sia.polarity_scores(sentence)[\"compound\"]\n",
    "    print(f'The sentiment value of the sentence :\"{sentence}\" is : {score}')\n"
   ]
  },
  {
   "cell_type": "markdown",
   "id": "5946755e",
   "metadata": {},
   "source": [
    "## 4. Calculate the output"
   ]
  },
  {
   "cell_type": "code",
   "execution_count": 4,
   "id": "94577f6d",
   "metadata": {},
   "outputs": [
    {
     "name": "stdout",
     "output_type": "stream",
     "text": [
      "For the sentence \"Excellent customer service. Also loved the amazing showroom where you can get a real feel of the top quality furniture and get inspiration for room designs.\"\n",
      "The percentage of positive sentiment in :\"Excellent customer service. Also loved the amazing showroom where you can get a real feel of the top quality furniture and get inspiration for room designs.\" is : 44.1 %\n",
      "The percentage of neutral sentiment in :\"Excellent customer service. Also loved the amazing showroom where you can get a real feel of the top quality furniture and get inspiration for room designs.\" is : 55.9 %\n",
      "The percentage of negative sentiment in :\"Excellent customer service. Also loved the amazing showroom where you can get a real feel of the top quality furniture and get inspiration for room designs.\" is : 0.0 %\n",
      "==================================================\n",
      "For the sentence \"I found the sales person to be quite rude and stuck up... don't think she realised I know all the suppliers she uses. I got the sofa & chair elsewhere. I will not be coming back\"\n",
      "The percentage of positive sentiment in :\"I found the sales person to be quite rude and stuck up... don't think she realised I know all the suppliers she uses. I got the sofa & chair elsewhere. I will not be coming back\" is : 0.0 %\n",
      "The percentage of neutral sentiment in :\"I found the sales person to be quite rude and stuck up... don't think she realised I know all the suppliers she uses. I got the sofa & chair elsewhere. I will not be coming back\" is : 86.0 %\n",
      "The percentage of negative sentiment in :\"I found the sales person to be quite rude and stuck up... don't think she realised I know all the suppliers she uses. I got the sofa & chair elsewhere. I will not be coming back\" is : 14.0 %\n",
      "==================================================\n",
      "For the sentence \"Thank you for finding replacement crystals for my chandelier.\"\n",
      "The percentage of positive sentiment in :\"Thank you for finding replacement crystals for my chandelier.\" is : 23.8 %\n",
      "The percentage of neutral sentiment in :\"Thank you for finding replacement crystals for my chandelier.\" is : 76.2 %\n",
      "The percentage of negative sentiment in :\"Thank you for finding replacement crystals for my chandelier.\" is : 0.0 %\n",
      "==================================================\n",
      "For the sentence \"I have worked with the team in several houses. All work was carried out on time and to budget.\"\n",
      "The percentage of positive sentiment in :\"I have worked with the team in several houses. All work was carried out on time and to budget.\" is : 0.0 %\n",
      "The percentage of neutral sentiment in :\"I have worked with the team in several houses. All work was carried out on time and to budget.\" is : 100.0 %\n",
      "The percentage of negative sentiment in :\"I have worked with the team in several houses. All work was carried out on time and to budget.\" is : 0.0 %\n",
      "==================================================\n"
     ]
    }
   ],
   "source": [
    "# Calculate the percentage of the output\n",
    "for sentence in sentences:\n",
    "    print(f'For the sentence \"{sentence}\"')\n",
    "    # Calculate the scores.\n",
    "    polarity = sia.polarity_scores(sentence)\n",
    "    pos = polarity[\"pos\"]\n",
    "    neu = polarity[\"neu\"]\n",
    "    neg = polarity[\"neg\"]\n",
    "    \n",
    "    # Display the scores.\n",
    "    print(f'The percentage of positive sentiment in :\"{sentence}\" is : {round(pos*100,2)} %')\n",
    "    print(f'The percentage of neutral sentiment in :\"{sentence}\" is : {round(neu*100,2)} %')\n",
    "    print(f'The percentage of negative sentiment in :\"{sentence}\" is : {round(neg*100,2)} %')\n",
    "    print(\"=\"*50)"
   ]
  },
  {
   "cell_type": "code",
   "execution_count": null,
   "id": "bf683cd6",
   "metadata": {},
   "outputs": [],
   "source": []
  }
 ],
 "metadata": {
  "kernelspec": {
   "display_name": "Python 3 (ipykernel)",
   "language": "python",
   "name": "python3"
  },
  "language_info": {
   "codemirror_mode": {
    "name": "ipython",
    "version": 3
   },
   "file_extension": ".py",
   "mimetype": "text/x-python",
   "name": "python",
   "nbconvert_exporter": "python",
   "pygments_lexer": "ipython3",
   "version": "3.9.7"
  }
 },
 "nbformat": 4,
 "nbformat_minor": 5
}
