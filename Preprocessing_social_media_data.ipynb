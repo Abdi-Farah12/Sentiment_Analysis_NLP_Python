{
 "cells": [
  {
   "cell_type": "markdown",
   "id": "46fcc342",
   "metadata": {},
   "source": [
    "## Pre-processing textural data from social media"
   ]
  },
  {
   "cell_type": "markdown",
   "id": "26969258",
   "metadata": {},
   "source": [
    "\n",
    "\n",
    "- access the API in Python\n",
    "- query Twitter for key phrases\n",
    "- customise the query\n",
    "- join results from the query in a Pandas DataFrame\n",
    "- apply some preprocessing."
   ]
  },
  {
   "cell_type": "markdown",
   "id": "e0ec3ed0",
   "metadata": {},
   "source": [
    "##  Prepare your workstation"
   ]
  },
  {
   "cell_type": "code",
   "execution_count": 10,
   "id": "8d529667",
   "metadata": {},
   "outputs": [],
   "source": [
    "# Copy the YAML file and your Twitter keys over to this Jupyter Notebook before you start to work\n",
    "import yaml\n",
    "from yaml.loader import SafeLoader\n",
    "from twitter import *\n",
    "\n",
    "# Import the yaml file - remember to specify the whole path and use / between directories\n",
    "twitter_creds = yaml.safe_load(open('twitter.yaml', 'r').read())"
   ]
  },
  {
   "cell_type": "code",
   "execution_count": 11,
   "id": "9f554d6c",
   "metadata": {},
   "outputs": [],
   "source": [
    "# Pass your twitter credentials\n",
    "twitter_api = Twitter(auth=OAuth(twitter_creds['access_token'],\n",
    "                                 twitter_creds['access_token_secret'], \n",
    "                                 twitter_creds['api_key'],\n",
    "                                 twitter_creds['api_secret_key'] ))"
   ]
  },
  {
   "cell_type": "code",
   "execution_count": 12,
   "id": "02b72765",
   "metadata": {},
   "outputs": [
    {
     "name": "stdout",
     "output_type": "stream",
     "text": [
      "<twitter.api.Twitter object at 0x7fa36805adc0>\n"
     ]
    }
   ],
   "source": [
    "# See if you are connected\n",
    "print(twitter_api)"
   ]
  },
  {
   "cell_type": "code",
   "execution_count": 13,
   "id": "08b0148f",
   "metadata": {},
   "outputs": [
    {
     "name": "stdout",
     "output_type": "stream",
     "text": [
      "{'statuses': [{'created_at': 'Fri Jun 10 10:32:51 +0000 2022', 'id': 1535208364753358851, 'id_str': '1535208364753358851', 'text': 'RT @iambickky: JavaScript is Hard!\\nPython is Hard!\\nCSS is Hard!\\nWhole Programming is Hard !!\\nYes, everything will be hard at first, but it…', 'truncated': False, 'entities': {'hashtags': [], 'symbols': [], 'user_mentions': [{'screen_name': 'iambickky', 'name': 'Bickky | FullStack Developer', 'id': 1376901020052168704, 'id_str': '1376901020052168704', 'indices': [3, 13]}], 'urls': []}, 'metadata': {'iso_language_code': 'en', 'result_type': 'recent'}, 'source': '<a href=\"http://twitter.com/download/iphone\" rel=\"nofollow\">Twitter for iPhone</a>', 'in_reply_to_status_id': None, 'in_reply_to_status_id_str': None, 'in_reply_to_user_id': None, 'in_reply_to_user_id_str': None, 'in_reply_to_screen_name': None, 'user': {'id': 801448633417797633, 'id_str': '801448633417797633', 'name': 'Bidipta saikia', 'screen_name': 'bidipta_saikia', 'location': 'Guwahati, India', 'description': '#', 'url': None, 'entities': {'description': {'urls': []}}, 'protected': False, 'followers_count': 16, 'friends_count': 41, 'listed_count': 0, 'created_at': 'Wed Nov 23 15:33:39 +0000 2016', 'favourites_count': 249, 'utc_offset': None, 'time_zone': None, 'geo_enabled': False, 'verified': False, 'statuses_count': 157, 'lang': None, 'contributors_enabled': False, 'is_translator': False, 'is_translation_enabled': False, 'profile_background_color': 'F5F8FA', 'profile_background_image_url': None, 'profile_background_image_url_https': None, 'profile_background_tile': False, 'profile_image_url': 'http://pbs.twimg.com/profile_images/1526316962199965697/QYKthxBX_normal.jpg', 'profile_image_url_https': 'https://pbs.twimg.com/profile_images/1526316962199965697/QYKthxBX_normal.jpg', 'profile_link_color': '1DA1F2', 'profile_sidebar_border_color': 'C0DEED', 'profile_sidebar_fill_color': 'DDEEF6', 'profile_text_color': '333333', 'profile_use_background_image': True, 'has_extended_profile': True, 'default_profile': True, 'default_profile_image': False, 'following': False, 'follow_request_sent': False, 'notifications': False, 'translator_type': 'none', 'withheld_in_countries': []}, 'geo': None, 'coordinates': None, 'place': None, 'contributors': None, 'retweeted_status': {'created_at': 'Thu Jun 09 06:25:37 +0000 2022', 'id': 1534783758658043904, 'id_str': '1534783758658043904', 'text': 'JavaScript is Hard!\\nPython is Hard!\\nCSS is Hard!\\nWhole Programming is Hard !!\\nYes, everything will be hard at first… https://t.co/SdsqEhCLcg', 'truncated': True, 'entities': {'hashtags': [], 'symbols': [], 'user_mentions': [], 'urls': [{'url': 'https://t.co/SdsqEhCLcg', 'expanded_url': 'https://twitter.com/i/web/status/1534783758658043904', 'display_url': 'twitter.com/i/web/status/1…', 'indices': [117, 140]}]}, 'metadata': {'iso_language_code': 'en', 'result_type': 'recent'}, 'source': '<a href=\"https://mobile.twitter.com\" rel=\"nofollow\">Twitter Web App</a>', 'in_reply_to_status_id': None, 'in_reply_to_status_id_str': None, 'in_reply_to_user_id': None, 'in_reply_to_user_id_str': None, 'in_reply_to_screen_name': None, 'user': {'id': 1376901020052168704, 'id_str': '1376901020052168704', 'name': 'Bickky | FullStack Developer', 'screen_name': 'iambickky', 'location': 'Nepal', 'description': 'Self-taught FullStack Python Developer | Now switching to Javascript Stack | Freelancer | Programming Instructor', 'url': 'https://t.co/f4Ks3bhJAn', 'entities': {'url': {'urls': [{'url': 'https://t.co/f4Ks3bhJAn', 'expanded_url': 'http://bickkysahani.github.io', 'display_url': 'bickkysahani.github.io', 'indices': [0, 23]}]}, 'description': {'urls': []}}, 'protected': False, 'followers_count': 537, 'friends_count': 85, 'listed_count': 2, 'created_at': 'Tue Mar 30 14:16:20 +0000 2021', 'favourites_count': 1633, 'utc_offset': None, 'time_zone': None, 'geo_enabled': True, 'verified': False, 'statuses_count': 256, 'lang': None, 'contributors_enabled': False, 'is_translator': False, 'is_translation_enabled': False, 'profile_background_color': 'F5F8FA', 'profile_background_image_url': None, 'profile_background_image_url_https': None, 'profile_background_tile': False, 'profile_image_url': 'http://pbs.twimg.com/profile_images/1393029271816269825/OEVN8Qf__normal.jpg', 'profile_image_url_https': 'https://pbs.twimg.com/profile_images/1393029271816269825/OEVN8Qf__normal.jpg', 'profile_banner_url': 'https://pbs.twimg.com/profile_banners/1376901020052168704/1654832527', 'profile_link_color': '1DA1F2', 'profile_sidebar_border_color': 'C0DEED', 'profile_sidebar_fill_color': 'DDEEF6', 'profile_text_color': '333333', 'profile_use_background_image': True, 'has_extended_profile': True, 'default_profile': True, 'default_profile_image': False, 'following': False, 'follow_request_sent': False, 'notifications': False, 'translator_type': 'none', 'withheld_in_countries': []}, 'geo': None, 'coordinates': None, 'place': None, 'contributors': None, 'is_quote_status': False, 'retweet_count': 1618, 'favorite_count': 8882, 'favorited': False, 'retweeted': False, 'lang': 'en'}, 'is_quote_status': False, 'retweet_count': 1618, 'favorite_count': 0, 'favorited': False, 'retweeted': False, 'lang': 'en'}, {'created_at': 'Fri Jun 10 10:32:37 +0000 2022', 'id': 1535208305131257856, 'id_str': '1535208305131257856', 'text': 'RT @GridDBCommunity: We analyzed air quality data gathered by the @EPA for #LA County to see what effects the California wildfires had on t…', 'truncated': False, 'entities': {'hashtags': [{'text': 'LA', 'indices': [75, 78]}], 'symbols': [], 'user_mentions': [{'screen_name': 'GridDBCommunity', 'name': 'GridDB Community', 'id': 722783342643384321, 'id_str': '722783342643384321', 'indices': [3, 19]}, {'screen_name': 'EPA', 'name': 'U.S. EPA', 'id': 14615871, 'id_str': '14615871', 'indices': [66, 70]}], 'urls': []}, 'metadata': {'iso_language_code': 'en', 'result_type': 'recent'}, 'source': '<a href=\"http://twitter.com/download/android\" rel=\"nofollow\">Twitter for Android</a>', 'in_reply_to_status_id': None, 'in_reply_to_status_id_str': None, 'in_reply_to_user_id': None, 'in_reply_to_user_id_str': None, 'in_reply_to_screen_name': None, 'user': {'id': 1268890784486612993, 'id_str': '1268890784486612993', 'name': 'Jean_99vk', 'screen_name': 'Jean99vk', 'location': 'Only Taekook & BTS ARMY', 'description': 'akun buat baca au HOMO', 'url': 'https://t.co/r74vaNM9iA', 'entities': {'url': {'urls': [{'url': 'https://t.co/r74vaNM9iA', 'expanded_url': 'http://Taekook.xn--gdh', 'display_url': 'Taekook.≮', 'indices': [0, 23]}]}, 'description': {'urls': []}}, 'protected': False, 'followers_count': 137, 'friends_count': 181, 'listed_count': 0, 'created_at': 'Fri Jun 05 13:02:14 +0000 2020', 'favourites_count': 32727, 'utc_offset': None, 'time_zone': None, 'geo_enabled': False, 'verified': False, 'statuses_count': 2444, 'lang': None, 'contributors_enabled': False, 'is_translator': False, 'is_translation_enabled': False, 'profile_background_color': 'F5F8FA', 'profile_background_image_url': None, 'profile_background_image_url_https': None, 'profile_background_tile': False, 'profile_image_url': 'http://pbs.twimg.com/profile_images/1533341841818431488/fHMP6RLC_normal.jpg', 'profile_image_url_https': 'https://pbs.twimg.com/profile_images/1533341841818431488/fHMP6RLC_normal.jpg', 'profile_banner_url': 'https://pbs.twimg.com/profile_banners/1268890784486612993/1654412129', 'profile_link_color': '1DA1F2', 'profile_sidebar_border_color': 'C0DEED', 'profile_sidebar_fill_color': 'DDEEF6', 'profile_text_color': '333333', 'profile_use_background_image': True, 'has_extended_profile': False, 'default_profile': True, 'default_profile_image': False, 'following': False, 'follow_request_sent': False, 'notifications': False, 'translator_type': 'none', 'withheld_in_countries': []}, 'geo': None, 'coordinates': None, 'place': None, 'contributors': None, 'retweeted_status': {'created_at': 'Tue Jan 19 18:19:06 +0000 2021', 'id': 1351595051118280705, 'id_str': '1351595051118280705', 'text': 'We analyzed air quality data gathered by the @EPA for #LA County to see what effects the California wildfires had o… https://t.co/mfjJ9fyWnq', 'truncated': True, 'entities': {'hashtags': [{'text': 'LA', 'indices': [54, 57]}], 'symbols': [], 'user_mentions': [{'screen_name': 'EPA', 'name': 'U.S. EPA', 'id': 14615871, 'id_str': '14615871', 'indices': [45, 49]}], 'urls': [{'url': 'https://t.co/mfjJ9fyWnq', 'expanded_url': 'https://twitter.com/i/web/status/1351595051118280705', 'display_url': 'twitter.com/i/web/status/1…', 'indices': [117, 140]}]}, 'metadata': {'iso_language_code': 'en', 'result_type': 'recent'}, 'source': '<a href=\"https://mobile.twitter.com\" rel=\"nofollow\">Twitter Web App</a>', 'in_reply_to_status_id': None, 'in_reply_to_status_id_str': None, 'in_reply_to_user_id': None, 'in_reply_to_user_id_str': None, 'in_reply_to_screen_name': None, 'user': {'id': 722783342643384321, 'id_str': '722783342643384321', 'name': 'GridDB Community', 'screen_name': 'GridDBCommunity', 'location': '', 'description': 'GridDB is an In-Memory NoSQL Database for highly scalable IoT applications', 'url': 'https://t.co/Q5Ml4pT565', 'entities': {'url': {'urls': [{'url': 'https://t.co/Q5Ml4pT565', 'expanded_url': 'https://griddb.net', 'display_url': 'griddb.net', 'indices': [0, 23]}]}, 'description': {'urls': []}}, 'protected': False, 'followers_count': 3277, 'friends_count': 2787, 'listed_count': 27, 'created_at': 'Wed Apr 20 13:45:52 +0000 2016', 'favourites_count': 19, 'utc_offset': None, 'time_zone': None, 'geo_enabled': False, 'verified': False, 'statuses_count': 856, 'lang': None, 'contributors_enabled': False, 'is_translator': False, 'is_translation_enabled': False, 'profile_background_color': 'F5F8FA', 'profile_background_image_url': None, 'profile_background_image_url_https': None, 'profile_background_tile': False, 'profile_image_url': 'http://pbs.twimg.com/profile_images/1136040135785455616/BkcYetav_normal.png', 'profile_image_url_https': 'https://pbs.twimg.com/profile_images/1136040135785455616/BkcYetav_normal.png', 'profile_banner_url': 'https://pbs.twimg.com/profile_banners/722783342643384321/1559688040', 'profile_link_color': '1DA1F2', 'profile_sidebar_border_color': 'C0DEED', 'profile_sidebar_fill_color': 'DDEEF6', 'profile_text_color': '333333', 'profile_use_background_image': True, 'has_extended_profile': False, 'default_profile': True, 'default_profile_image': False, 'following': False, 'follow_request_sent': False, 'notifications': False, 'translator_type': 'none', 'withheld_in_countries': []}, 'geo': None, 'coordinates': None, 'place': None, 'contributors': None, 'is_quote_status': False, 'retweet_count': 5717, 'favorite_count': 51624, 'favorited': False, 'retweeted': False, 'possibly_sensitive': False, 'lang': 'en'}, 'is_quote_status': False, 'retweet_count': 5717, 'favorite_count': 0, 'favorited': False, 'retweeted': False, 'lang': 'en'}, {'created_at': 'Fri Jun 10 10:32:22 +0000 2022', 'id': 1535208241407623168, 'id_str': '1535208241407623168', 'text': 'RT @parvezshahshaik: #Python Libraries and Frameworks\\n\\n#MachineLearning #Jupyter #SQL #DataScience  #Cybersecurity #BigData #Analytics #Pyt…', 'truncated': False, 'entities': {'hashtags': [{'text': 'Python', 'indices': [21, 28]}, {'text': 'MachineLearning', 'indices': [55, 71]}, {'text': 'Jupyter', 'indices': [72, 80]}, {'text': 'SQL', 'indices': [81, 85]}, {'text': 'DataScience', 'indices': [86, 98]}, {'text': 'Cybersecurity', 'indices': [100, 114]}, {'text': 'BigData', 'indices': [115, 123]}, {'text': 'Analytics', 'indices': [124, 134]}], 'symbols': [], 'user_mentions': [{'screen_name': 'parvezshahshaik', 'name': 'Parvez', 'id': 1193120599247224832, 'id_str': '1193120599247224832', 'indices': [3, 19]}], 'urls': []}, 'metadata': {'iso_language_code': 'en', 'result_type': 'recent'}, 'source': '<a href=\"http://twitter.com/download/iphone\" rel=\"nofollow\">Twitter for iPhone</a>', 'in_reply_to_status_id': None, 'in_reply_to_status_id_str': None, 'in_reply_to_user_id': None, 'in_reply_to_user_id_str': None, 'in_reply_to_screen_name': None, 'user': {'id': 1275239129484161028, 'id_str': '1275239129484161028', 'name': 'Radicle', 'screen_name': 'altquantfund', 'location': 'Singapore', 'description': 'Brewmaster', 'url': None, 'entities': {'description': {'urls': []}}, 'protected': False, 'followers_count': 5, 'friends_count': 85, 'listed_count': 0, 'created_at': 'Tue Jun 23 01:28:01 +0000 2020', 'favourites_count': 5, 'utc_offset': None, 'time_zone': None, 'geo_enabled': False, 'verified': False, 'statuses_count': 190, 'lang': None, 'contributors_enabled': False, 'is_translator': False, 'is_translation_enabled': False, 'profile_background_color': 'F5F8FA', 'profile_background_image_url': None, 'profile_background_image_url_https': None, 'profile_background_tile': False, 'profile_image_url': 'http://pbs.twimg.com/profile_images/1397782944169689090/nnD7e6o6_normal.jpg', 'profile_image_url_https': 'https://pbs.twimg.com/profile_images/1397782944169689090/nnD7e6o6_normal.jpg', 'profile_banner_url': 'https://pbs.twimg.com/profile_banners/1275239129484161028/1622117348', 'profile_link_color': '1DA1F2', 'profile_sidebar_border_color': 'C0DEED', 'profile_sidebar_fill_color': 'DDEEF6', 'profile_text_color': '333333', 'profile_use_background_image': True, 'has_extended_profile': True, 'default_profile': True, 'default_profile_image': False, 'following': False, 'follow_request_sent': False, 'notifications': False, 'translator_type': 'none', 'withheld_in_countries': []}, 'geo': None, 'coordinates': None, 'place': None, 'contributors': None, 'retweeted_status': {'created_at': 'Thu Jun 09 14:07:08 +0000 2022', 'id': 1534899902521782274, 'id_str': '1534899902521782274', 'text': '#Python Libraries and Frameworks\\n\\n#MachineLearning #Jupyter #SQL #DataScience  #Cybersecurity #BigData #Analytics… https://t.co/sCRqTuvRjK', 'truncated': True, 'entities': {'hashtags': [{'text': 'Python', 'indices': [0, 7]}, {'text': 'MachineLearning', 'indices': [34, 50]}, {'text': 'Jupyter', 'indices': [51, 59]}, {'text': 'SQL', 'indices': [60, 64]}, {'text': 'DataScience', 'indices': [65, 77]}, {'text': 'Cybersecurity', 'indices': [79, 93]}, {'text': 'BigData', 'indices': [94, 102]}, {'text': 'Analytics', 'indices': [103, 113]}], 'symbols': [], 'user_mentions': [], 'urls': [{'url': 'https://t.co/sCRqTuvRjK', 'expanded_url': 'https://twitter.com/i/web/status/1534899902521782274', 'display_url': 'twitter.com/i/web/status/1…', 'indices': [115, 138]}]}, 'metadata': {'iso_language_code': 'en', 'result_type': 'recent'}, 'source': '<a href=\"http://twitter.com/download/android\" rel=\"nofollow\">Twitter for Android</a>', 'in_reply_to_status_id': None, 'in_reply_to_status_id_str': None, 'in_reply_to_user_id': None, 'in_reply_to_user_id_str': None, 'in_reply_to_screen_name': None, 'user': {'id': 1193120599247224832, 'id_str': '1193120599247224832', 'name': 'Parvez', 'screen_name': 'parvezshahshaik', 'location': 'London, England', 'description': 'MSc. in Artificial Intelligence | Content Creator | Aspiring Data Analyst | Writer | Gamer', 'url': 'https://t.co/zEnbznHirC', 'entities': {'url': {'urls': [{'url': 'https://t.co/zEnbznHirC', 'expanded_url': 'https://linktr.ee/parvezshahshaik', 'display_url': 'linktr.ee/parvezshahshaik', 'indices': [0, 23]}]}, 'description': {'urls': []}}, 'protected': False, 'followers_count': 544, 'friends_count': 25, 'listed_count': 8, 'created_at': 'Sat Nov 09 10:58:24 +0000 2019', 'favourites_count': 28, 'utc_offset': None, 'time_zone': None, 'geo_enabled': False, 'verified': False, 'statuses_count': 73, 'lang': None, 'contributors_enabled': False, 'is_translator': False, 'is_translation_enabled': False, 'profile_background_color': 'F5F8FA', 'profile_background_image_url': None, 'profile_background_image_url_https': None, 'profile_background_tile': False, 'profile_image_url': 'http://pbs.twimg.com/profile_images/1477800148252123137/chz7uNhP_normal.jpg', 'profile_image_url_https': 'https://pbs.twimg.com/profile_images/1477800148252123137/chz7uNhP_normal.jpg', 'profile_banner_url': 'https://pbs.twimg.com/profile_banners/1193120599247224832/1641170030', 'profile_link_color': '1DA1F2', 'profile_sidebar_border_color': 'C0DEED', 'profile_sidebar_fill_color': 'DDEEF6', 'profile_text_color': '333333', 'profile_use_background_image': True, 'has_extended_profile': False, 'default_profile': True, 'default_profile_image': False, 'following': False, 'follow_request_sent': False, 'notifications': False, 'translator_type': 'none', 'withheld_in_countries': []}, 'geo': None, 'coordinates': None, 'place': None, 'contributors': None, 'is_quote_status': False, 'retweet_count': 879, 'favorite_count': 3140, 'favorited': False, 'retweeted': False, 'possibly_sensitive': False, 'lang': 'en'}, 'is_quote_status': False, 'retweet_count': 879, 'favorite_count': 0, 'favorited': False, 'retweeted': False, 'lang': 'en'}, {'created_at': 'Fri Jun 10 10:32:15 +0000 2022', 'id': 1535208211552288768, 'id_str': '1535208211552288768', 'text': 'RT @Sheraj99: GIT Command Cheat Sheet \\n#MachineLearning #DataScience #SQL #100DaysOfCode #BigData #Analytics #AI #IIoT #Python #RStats #Ten…', 'truncated': False, 'entities': {'hashtags': [{'text': 'MachineLearning', 'indices': [39, 55]}, {'text': 'DataScience', 'indices': [56, 68]}, {'text': 'SQL', 'indices': [69, 73]}, {'text': '100DaysOfCode', 'indices': [74, 88]}, {'text': 'BigData', 'indices': [89, 97]}, {'text': 'Analytics', 'indices': [98, 108]}, {'text': 'AI', 'indices': [109, 112]}, {'text': 'IIoT', 'indices': [113, 118]}, {'text': 'Python', 'indices': [119, 126]}, {'text': 'RStats', 'indices': [127, 134]}], 'symbols': [], 'user_mentions': [{'screen_name': 'Sheraj99', 'name': 'Syeda Sheraj Ali', 'id': 268619848, 'id_str': '268619848', 'indices': [3, 12]}], 'urls': []}, 'metadata': {'iso_language_code': 'en', 'result_type': 'recent'}, 'source': '<a href=\"https://mobile.twitter.com\" rel=\"nofollow\">Twitter Web App</a>', 'in_reply_to_status_id': None, 'in_reply_to_status_id_str': None, 'in_reply_to_user_id': None, 'in_reply_to_user_id_str': None, 'in_reply_to_screen_name': None, 'user': {'id': 1031458728170741761, 'id_str': '1031458728170741761', 'name': 'Francis Tawiah', 'screen_name': 'CodeitSoft_Tek', 'location': 'Tarkwa, Ghana', 'description': 'Web Developer | Digital Marketer | Power BI Data Analyst | Tech Enthusiast | Football Lover | Chelsea Fan', 'url': None, 'entities': {'description': {'urls': []}}, 'protected': False, 'followers_count': 1170, 'friends_count': 2232, 'listed_count': 3, 'created_at': 'Mon Aug 20 08:31:39 +0000 2018', 'favourites_count': 19405, 'utc_offset': None, 'time_zone': None, 'geo_enabled': False, 'verified': False, 'statuses_count': 3804, 'lang': None, 'contributors_enabled': False, 'is_translator': False, 'is_translation_enabled': False, 'profile_background_color': 'F5F8FA', 'profile_background_image_url': None, 'profile_background_image_url_https': None, 'profile_background_tile': False, 'profile_image_url': 'http://pbs.twimg.com/profile_images/1532126559183708160/YcpHwBMW_normal.jpg', 'profile_image_url_https': 'https://pbs.twimg.com/profile_images/1532126559183708160/YcpHwBMW_normal.jpg', 'profile_banner_url': 'https://pbs.twimg.com/profile_banners/1031458728170741761/1641274096', 'profile_link_color': '1DA1F2', 'profile_sidebar_border_color': 'C0DEED', 'profile_sidebar_fill_color': 'DDEEF6', 'profile_text_color': '333333', 'profile_use_background_image': True, 'has_extended_profile': True, 'default_profile': True, 'default_profile_image': False, 'following': False, 'follow_request_sent': False, 'notifications': False, 'translator_type': 'none', 'withheld_in_countries': []}, 'geo': None, 'coordinates': None, 'place': None, 'contributors': None, 'retweeted_status': {'created_at': 'Thu Jun 09 15:36:51 +0000 2022', 'id': 1534922481085169665, 'id_str': '1534922481085169665', 'text': 'GIT Command Cheat Sheet \\n#MachineLearning #DataScience #SQL #100DaysOfCode #BigData #Analytics #AI #IIoT #Python… https://t.co/qyFPXf72z2', 'truncated': True, 'entities': {'hashtags': [{'text': 'MachineLearning', 'indices': [25, 41]}, {'text': 'DataScience', 'indices': [42, 54]}, {'text': 'SQL', 'indices': [55, 59]}, {'text': '100DaysOfCode', 'indices': [60, 74]}, {'text': 'BigData', 'indices': [75, 83]}, {'text': 'Analytics', 'indices': [84, 94]}, {'text': 'AI', 'indices': [95, 98]}, {'text': 'IIoT', 'indices': [99, 104]}, {'text': 'Python', 'indices': [105, 112]}], 'symbols': [], 'user_mentions': [], 'urls': [{'url': 'https://t.co/qyFPXf72z2', 'expanded_url': 'https://twitter.com/i/web/status/1534922481085169665', 'display_url': 'twitter.com/i/web/status/1…', 'indices': [114, 137]}]}, 'metadata': {'iso_language_code': 'en', 'result_type': 'recent'}, 'source': '<a href=\"http://twitter.com/download/iphone\" rel=\"nofollow\">Twitter for iPhone</a>', 'in_reply_to_status_id': None, 'in_reply_to_status_id_str': None, 'in_reply_to_user_id': None, 'in_reply_to_user_id_str': None, 'in_reply_to_screen_name': None, 'user': {'id': 268619848, 'id_str': '268619848', 'name': 'Syeda Sheraj Ali', 'screen_name': 'Sheraj99', 'location': 'Toronto, Ontario', 'description': '25 AQUARIUS | TORONTONIAN GIRL | CHEF | TRAVELLER | HOSPITALITY | UOFT | DIGITAL MARKETING |LIBERAL by BLOOD|', 'url': None, 'entities': {'description': {'urls': []}}, 'protected': False, 'followers_count': 2288, 'friends_count': 84, 'listed_count': 45, 'created_at': 'Sat Mar 19 04:05:00 +0000 2011', 'favourites_count': 476, 'utc_offset': None, 'time_zone': None, 'geo_enabled': False, 'verified': False, 'statuses_count': 5831, 'lang': None, 'contributors_enabled': False, 'is_translator': False, 'is_translation_enabled': False, 'profile_background_color': 'C0DEED', 'profile_background_image_url': 'http://abs.twimg.com/images/themes/theme1/bg.png', 'profile_background_image_url_https': 'https://abs.twimg.com/images/themes/theme1/bg.png', 'profile_background_tile': False, 'profile_image_url': 'http://pbs.twimg.com/profile_images/1258879283877105664/_UZhqUDu_normal.jpg', 'profile_image_url_https': 'https://pbs.twimg.com/profile_images/1258879283877105664/_UZhqUDu_normal.jpg', 'profile_banner_url': 'https://pbs.twimg.com/profile_banners/268619848/1588802651', 'profile_link_color': '1DA1F2', 'profile_sidebar_border_color': 'C0DEED', 'profile_sidebar_fill_color': 'DDEEF6', 'profile_text_color': '333333', 'profile_use_background_image': True, 'has_extended_profile': False, 'default_profile': True, 'default_profile_image': False, 'following': False, 'follow_request_sent': False, 'notifications': False, 'translator_type': 'none', 'withheld_in_countries': []}, 'geo': None, 'coordinates': None, 'place': None, 'contributors': None, 'is_quote_status': False, 'retweet_count': 101, 'favorite_count': 178, 'favorited': False, 'retweeted': False, 'possibly_sensitive': False, 'lang': 'en'}, 'is_quote_status': False, 'retweet_count': 101, 'favorite_count': 0, 'favorited': False, 'retweeted': False, 'lang': 'en'}, {'created_at': 'Fri Jun 10 10:32:00 +0000 2022', 'id': 1535208150827257856, 'id_str': '1535208150827257856', 'text': 'RT @harisystems: Flash Sale ends today | Courses for as little as ₹455.\\nLearn from real-world experts\\n\\nPython for Intermediate Coding: Clas…', 'truncated': False, 'entities': {'hashtags': [], 'symbols': [], 'user_mentions': [{'screen_name': 'harisystems', 'name': 'Hari Systems', 'id': 1515163291, 'id_str': '1515163291', 'indices': [3, 15]}], 'urls': []}, 'metadata': {'iso_language_code': 'en', 'result_type': 'recent'}, 'source': '<a href=\"https://testingthissite.firebaseapp.com\" rel=\"nofollow\">pythonbot007</a>', 'in_reply_to_status_id': None, 'in_reply_to_status_id_str': None, 'in_reply_to_user_id': None, 'in_reply_to_user_id_str': None, 'in_reply_to_screen_name': None, 'user': {'id': 1250043110291173376, 'id_str': '1250043110291173376', 'name': 'Shay Cormac', 'screen_name': 'ShayTweeter', 'location': 'INDIA', 'description': 'I retweet your tweets but only those in which you have used anyone among these two Hashtags\\n1. #python\\n2. #video', 'url': None, 'entities': {'description': {'urls': []}}, 'protected': False, 'followers_count': 917, 'friends_count': 16, 'listed_count': 25, 'created_at': 'Tue Apr 14 12:48:02 +0000 2020', 'favourites_count': 15, 'utc_offset': None, 'time_zone': None, 'geo_enabled': False, 'verified': False, 'statuses_count': 52054, 'lang': None, 'contributors_enabled': False, 'is_translator': False, 'is_translation_enabled': False, 'profile_background_color': 'F5F8FA', 'profile_background_image_url': None, 'profile_background_image_url_https': None, 'profile_background_tile': False, 'profile_image_url': 'http://pbs.twimg.com/profile_images/1263456314765828098/qGiiS9Sw_normal.jpg', 'profile_image_url_https': 'https://pbs.twimg.com/profile_images/1263456314765828098/qGiiS9Sw_normal.jpg', 'profile_banner_url': 'https://pbs.twimg.com/profile_banners/1250043110291173376/1590066479', 'profile_link_color': '1DA1F2', 'profile_sidebar_border_color': 'C0DEED', 'profile_sidebar_fill_color': 'DDEEF6', 'profile_text_color': '333333', 'profile_use_background_image': True, 'has_extended_profile': True, 'default_profile': True, 'default_profile_image': False, 'following': False, 'follow_request_sent': False, 'notifications': False, 'translator_type': 'none', 'withheld_in_countries': []}, 'geo': None, 'coordinates': None, 'place': None, 'contributors': None, 'retweeted_status': {'created_at': 'Fri Jun 10 10:31:26 +0000 2022', 'id': 1535208008606941184, 'id_str': '1535208008606941184', 'text': 'Flash Sale ends today | Courses for as little as ₹455.\\nLearn from real-world experts\\n\\nPython for Intermediate Codin… https://t.co/v74s08RFQe', 'truncated': True, 'entities': {'hashtags': [], 'symbols': [], 'user_mentions': [], 'urls': [{'url': 'https://t.co/v74s08RFQe', 'expanded_url': 'https://twitter.com/i/web/status/1535208008606941184', 'display_url': 'twitter.com/i/web/status/1…', 'indices': [117, 140]}]}, 'metadata': {'iso_language_code': 'en', 'result_type': 'recent'}, 'source': '<a href=\"https://mobile.twitter.com\" rel=\"nofollow\">Twitter Web App</a>', 'in_reply_to_status_id': None, 'in_reply_to_status_id_str': None, 'in_reply_to_user_id': None, 'in_reply_to_user_id_str': None, 'in_reply_to_screen_name': None, 'user': {'id': 1515163291, 'id_str': '1515163291', 'name': 'Hari Systems', 'screen_name': 'harisystems', 'location': 'Around the World', 'description': 'Hari Systems - IT Services | Online Courses | e-Learning | Content  | Trainings | Real-World Projects and more', 'url': 'https://t.co/JnIglHomDL', 'entities': {'url': {'urls': [{'url': 'https://t.co/JnIglHomDL', 'expanded_url': 'http://www.harisystems.com', 'display_url': 'harisystems.com', 'indices': [0, 23]}]}, 'description': {'urls': []}}, 'protected': False, 'followers_count': 150, 'friends_count': 319, 'listed_count': 2, 'created_at': 'Fri Jun 14 03:09:54 +0000 2013', 'favourites_count': 4407, 'utc_offset': None, 'time_zone': None, 'geo_enabled': False, 'verified': False, 'statuses_count': 15004, 'lang': None, 'contributors_enabled': False, 'is_translator': False, 'is_translation_enabled': True, 'profile_background_color': '000000', 'profile_background_image_url': 'http://abs.twimg.com/images/themes/theme1/bg.png', 'profile_background_image_url_https': 'https://abs.twimg.com/images/themes/theme1/bg.png', 'profile_background_tile': False, 'profile_image_url': 'http://pbs.twimg.com/profile_images/1300994223420747778/W1rNGuxg_normal.jpg', 'profile_image_url_https': 'https://pbs.twimg.com/profile_images/1300994223420747778/W1rNGuxg_normal.jpg', 'profile_banner_url': 'https://pbs.twimg.com/profile_banners/1515163291/1654694713', 'profile_link_color': '3B94D9', 'profile_sidebar_border_color': '000000', 'profile_sidebar_fill_color': '000000', 'profile_text_color': '000000', 'profile_use_background_image': False, 'has_extended_profile': False, 'default_profile': False, 'default_profile_image': False, 'following': False, 'follow_request_sent': False, 'notifications': False, 'translator_type': 'none', 'withheld_in_countries': []}, 'geo': None, 'coordinates': None, 'place': None, 'contributors': None, 'is_quote_status': False, 'retweet_count': 1, 'favorite_count': 0, 'favorited': False, 'retweeted': False, 'possibly_sensitive': False, 'lang': 'en'}, 'is_quote_status': False, 'retweet_count': 1, 'favorite_count': 0, 'favorited': False, 'retweeted': False, 'lang': 'en'}, {'created_at': 'Fri Jun 10 10:31:58 +0000 2022', 'id': 1535208140781899776, 'id_str': '1535208140781899776', 'text': 'https://t.co/v3dfJ3sNKG 🐍🔥\\n\\n#SEO #Python https://t.co/cHbJI8z5Tm', 'truncated': False, 'entities': {'hashtags': [{'text': 'SEO', 'indices': [28, 32]}, {'text': 'Python', 'indices': [33, 40]}], 'symbols': [], 'user_mentions': [], 'urls': [{'url': 'https://t.co/v3dfJ3sNKG', 'expanded_url': 'https://advertools.readthedocs.io/en/master/', 'display_url': 'advertools.readthedocs.io/en/master/', 'indices': [0, 23]}], 'media': [{'id': 1535207843732791296, 'id_str': '1535207843732791296', 'indices': [41, 64], 'media_url': 'http://pbs.twimg.com/media/FU4nZmYWIAA8cZu.jpg', 'media_url_https': 'https://pbs.twimg.com/media/FU4nZmYWIAA8cZu.jpg', 'url': 'https://t.co/cHbJI8z5Tm', 'display_url': 'pic.twitter.com/cHbJI8z5Tm', 'expanded_url': 'https://twitter.com/DataChaz/status/1535208140781899776/photo/1', 'type': 'photo', 'sizes': {'medium': {'w': 577, 'h': 432, 'resize': 'fit'}, 'thumb': {'w': 150, 'h': 150, 'resize': 'crop'}, 'large': {'w': 577, 'h': 432, 'resize': 'fit'}, 'small': {'w': 577, 'h': 432, 'resize': 'fit'}}}]}, 'extended_entities': {'media': [{'id': 1535207843732791296, 'id_str': '1535207843732791296', 'indices': [41, 64], 'media_url': 'http://pbs.twimg.com/media/FU4nZmYWIAA8cZu.jpg', 'media_url_https': 'https://pbs.twimg.com/media/FU4nZmYWIAA8cZu.jpg', 'url': 'https://t.co/cHbJI8z5Tm', 'display_url': 'pic.twitter.com/cHbJI8z5Tm', 'expanded_url': 'https://twitter.com/DataChaz/status/1535208140781899776/photo/1', 'type': 'photo', 'sizes': {'medium': {'w': 577, 'h': 432, 'resize': 'fit'}, 'thumb': {'w': 150, 'h': 150, 'resize': 'crop'}, 'large': {'w': 577, 'h': 432, 'resize': 'fit'}, 'small': {'w': 577, 'h': 432, 'resize': 'fit'}}}]}, 'metadata': {'iso_language_code': 'und', 'result_type': 'recent'}, 'source': '<a href=\"https://mobile.twitter.com\" rel=\"nofollow\">Twitter Web App</a>', 'in_reply_to_status_id': None, 'in_reply_to_status_id_str': None, 'in_reply_to_user_id': None, 'in_reply_to_user_id_str': None, 'in_reply_to_screen_name': None, 'user': {'id': 19628766, 'id_str': '19628766', 'name': 'Charly Wargnier 🇺🇦', 'screen_name': 'DataChaz', 'location': 'Nottingham, UK.', 'description': '∙ Developer 🥑 at 🎈@Streamlit ❄️@snowflakedb \\n∙ 🧙\\u200d♂️ Open Sourcerer\\n∙ Joining the dots between SEO & #DataScience\\n∙ @SEOPythonistas maintainer 🐍🔥 \\n🇫🇷 🇬🇧', 'url': 'https://t.co/kOE34O9n1i', 'entities': {'url': {'urls': [{'url': 'https://t.co/kOE34O9n1i', 'expanded_url': 'https://www.charlywargnier.com/', 'display_url': 'charlywargnier.com', 'indices': [0, 23]}]}, 'description': {'urls': []}}, 'protected': False, 'followers_count': 20691, 'friends_count': 13212, 'listed_count': 0, 'created_at': 'Wed Jan 28 01:11:07 +0000 2009', 'favourites_count': 38734, 'utc_offset': None, 'time_zone': None, 'geo_enabled': True, 'verified': False, 'statuses_count': 11320, 'lang': None, 'contributors_enabled': False, 'is_translator': False, 'is_translation_enabled': False, 'profile_background_color': 'C0DEED', 'profile_background_image_url': 'http://abs.twimg.com/images/themes/theme1/bg.png', 'profile_background_image_url_https': 'https://abs.twimg.com/images/themes/theme1/bg.png', 'profile_background_tile': False, 'profile_image_url': 'http://pbs.twimg.com/profile_images/1522239315815841793/Xu9JpAEZ_normal.jpg', 'profile_image_url_https': 'https://pbs.twimg.com/profile_images/1522239315815841793/Xu9JpAEZ_normal.jpg', 'profile_banner_url': 'https://pbs.twimg.com/profile_banners/19628766/1630526645', 'profile_link_color': 'E81C4F', 'profile_sidebar_border_color': 'C0DEED', 'profile_sidebar_fill_color': 'DDEEF6', 'profile_text_color': '333333', 'profile_use_background_image': True, 'has_extended_profile': True, 'default_profile': False, 'default_profile_image': False, 'following': False, 'follow_request_sent': False, 'notifications': False, 'translator_type': 'none', 'withheld_in_countries': []}, 'geo': None, 'coordinates': None, 'place': None, 'contributors': None, 'is_quote_status': False, 'retweet_count': 0, 'favorite_count': 0, 'favorited': False, 'retweeted': False, 'possibly_sensitive': False, 'lang': 'und'}, {'created_at': 'Fri Jun 10 10:31:56 +0000 2022', 'id': 1535208133622222849, 'id_str': '1535208133622222849', 'text': 'RT @pihole_fosser: I am a #RaspberryPi #Python scripted bot\\nThis is my daily #Pihole report:\\n\\nAds Blocked: 2613\\nAds Percentage Today: 34 %…', 'truncated': False, 'entities': {'hashtags': [{'text': 'RaspberryPi', 'indices': [26, 38]}, {'text': 'Python', 'indices': [39, 46]}, {'text': 'Pihole', 'indices': [77, 84]}], 'symbols': [], 'user_mentions': [{'screen_name': 'pihole_fosser', 'name': 'Fosserjo Pihole', 'id': 732554665817178112, 'id_str': '732554665817178112', 'indices': [3, 17]}], 'urls': []}, 'metadata': {'iso_language_code': 'en', 'result_type': 'recent'}, 'source': '<a href=\"https://testingthissite.firebaseapp.com\" rel=\"nofollow\">pythonbot007</a>', 'in_reply_to_status_id': None, 'in_reply_to_status_id_str': None, 'in_reply_to_user_id': None, 'in_reply_to_user_id_str': None, 'in_reply_to_screen_name': None, 'user': {'id': 1250043110291173376, 'id_str': '1250043110291173376', 'name': 'Shay Cormac', 'screen_name': 'ShayTweeter', 'location': 'INDIA', 'description': 'I retweet your tweets but only those in which you have used anyone among these two Hashtags\\n1. #python\\n2. #video', 'url': None, 'entities': {'description': {'urls': []}}, 'protected': False, 'followers_count': 917, 'friends_count': 16, 'listed_count': 25, 'created_at': 'Tue Apr 14 12:48:02 +0000 2020', 'favourites_count': 15, 'utc_offset': None, 'time_zone': None, 'geo_enabled': False, 'verified': False, 'statuses_count': 52054, 'lang': None, 'contributors_enabled': False, 'is_translator': False, 'is_translation_enabled': False, 'profile_background_color': 'F5F8FA', 'profile_background_image_url': None, 'profile_background_image_url_https': None, 'profile_background_tile': False, 'profile_image_url': 'http://pbs.twimg.com/profile_images/1263456314765828098/qGiiS9Sw_normal.jpg', 'profile_image_url_https': 'https://pbs.twimg.com/profile_images/1263456314765828098/qGiiS9Sw_normal.jpg', 'profile_banner_url': 'https://pbs.twimg.com/profile_banners/1250043110291173376/1590066479', 'profile_link_color': '1DA1F2', 'profile_sidebar_border_color': 'C0DEED', 'profile_sidebar_fill_color': 'DDEEF6', 'profile_text_color': '333333', 'profile_use_background_image': True, 'has_extended_profile': True, 'default_profile': True, 'default_profile_image': False, 'following': False, 'follow_request_sent': False, 'notifications': False, 'translator_type': 'none', 'withheld_in_countries': []}, 'geo': None, 'coordinates': None, 'place': None, 'contributors': None, 'retweeted_status': {'created_at': 'Fri Jun 10 10:31:06 +0000 2022', 'id': 1535207922103296001, 'id_str': '1535207922103296001', 'text': 'I am a #RaspberryPi #Python scripted bot\\nThis is my daily #Pihole report:\\n\\nAds Blocked: 2613\\nAds Percentage Today:… https://t.co/n6c6DpjUky', 'truncated': True, 'entities': {'hashtags': [{'text': 'RaspberryPi', 'indices': [7, 19]}, {'text': 'Python', 'indices': [20, 27]}, {'text': 'Pihole', 'indices': [58, 65]}], 'symbols': [], 'user_mentions': [], 'urls': [{'url': 'https://t.co/n6c6DpjUky', 'expanded_url': 'https://twitter.com/i/web/status/1535207922103296001', 'display_url': 'twitter.com/i/web/status/1…', 'indices': [116, 139]}]}, 'metadata': {'iso_language_code': 'en', 'result_type': 'recent'}, 'source': '<a href=\"https://help.twitter.com/en/using-twitter/how-to-tweet#source-labels\" rel=\"nofollow\">pihole_stats</a>', 'in_reply_to_status_id': None, 'in_reply_to_status_id_str': None, 'in_reply_to_user_id': None, 'in_reply_to_user_id_str': None, 'in_reply_to_screen_name': None, 'user': {'id': 732554665817178112, 'id_str': '732554665817178112', 'name': 'Fosserjo Pihole', 'screen_name': 'pihole_fosser', 'location': '', 'description': 'Raspberry Pi bot. Python. Python bot', 'url': None, 'entities': {'description': {'urls': []}}, 'protected': False, 'followers_count': 44, 'friends_count': 6, 'listed_count': 3, 'created_at': 'Tue May 17 12:53:37 +0000 2016', 'favourites_count': 159, 'utc_offset': None, 'time_zone': None, 'geo_enabled': False, 'verified': False, 'statuses_count': 49199, 'lang': None, 'contributors_enabled': False, 'is_translator': False, 'is_translation_enabled': False, 'profile_background_color': 'F5F8FA', 'profile_background_image_url': None, 'profile_background_image_url_https': None, 'profile_background_tile': False, 'profile_image_url': 'http://pbs.twimg.com/profile_images/732555807234109440/nKs4b5X7_normal.jpg', 'profile_image_url_https': 'https://pbs.twimg.com/profile_images/732555807234109440/nKs4b5X7_normal.jpg', 'profile_banner_url': 'https://pbs.twimg.com/profile_banners/732554665817178112/1463489887', 'profile_link_color': '1DA1F2', 'profile_sidebar_border_color': 'C0DEED', 'profile_sidebar_fill_color': 'DDEEF6', 'profile_text_color': '333333', 'profile_use_background_image': True, 'has_extended_profile': False, 'default_profile': True, 'default_profile_image': False, 'following': False, 'follow_request_sent': False, 'notifications': False, 'translator_type': 'none', 'withheld_in_countries': []}, 'geo': None, 'coordinates': None, 'place': None, 'contributors': None, 'is_quote_status': False, 'retweet_count': 1, 'favorite_count': 0, 'favorited': False, 'retweeted': False, 'lang': 'en'}, 'is_quote_status': False, 'retweet_count': 1, 'favorite_count': 0, 'favorited': False, 'retweeted': False, 'lang': 'en'}, {'created_at': 'Fri Jun 10 10:31:54 +0000 2022', 'id': 1535208124789018625, 'id_str': '1535208124789018625', 'text': 'RT @PythonJobsFeed: Apple is looking for VLSI CAD Engineer – Noise and Timing for Gate-Level Flows and Methodologies\\nhttps://t.co/lDB39dwCU…', 'truncated': False, 'entities': {'hashtags': [], 'symbols': [], 'user_mentions': [{'screen_name': 'PythonJobsFeed', 'name': 'Python Jobs feed', 'id': 1463094498779537414, 'id_str': '1463094498779537414', 'indices': [3, 18]}], 'urls': []}, 'metadata': {'iso_language_code': 'en', 'result_type': 'recent'}, 'source': '<a href=\"https://testingthissite.firebaseapp.com\" rel=\"nofollow\">pythonbot007</a>', 'in_reply_to_status_id': None, 'in_reply_to_status_id_str': None, 'in_reply_to_user_id': None, 'in_reply_to_user_id_str': None, 'in_reply_to_screen_name': None, 'user': {'id': 1250043110291173376, 'id_str': '1250043110291173376', 'name': 'Shay Cormac', 'screen_name': 'ShayTweeter', 'location': 'INDIA', 'description': 'I retweet your tweets but only those in which you have used anyone among these two Hashtags\\n1. #python\\n2. #video', 'url': None, 'entities': {'description': {'urls': []}}, 'protected': False, 'followers_count': 917, 'friends_count': 16, 'listed_count': 25, 'created_at': 'Tue Apr 14 12:48:02 +0000 2020', 'favourites_count': 15, 'utc_offset': None, 'time_zone': None, 'geo_enabled': False, 'verified': False, 'statuses_count': 52054, 'lang': None, 'contributors_enabled': False, 'is_translator': False, 'is_translation_enabled': False, 'profile_background_color': 'F5F8FA', 'profile_background_image_url': None, 'profile_background_image_url_https': None, 'profile_background_tile': False, 'profile_image_url': 'http://pbs.twimg.com/profile_images/1263456314765828098/qGiiS9Sw_normal.jpg', 'profile_image_url_https': 'https://pbs.twimg.com/profile_images/1263456314765828098/qGiiS9Sw_normal.jpg', 'profile_banner_url': 'https://pbs.twimg.com/profile_banners/1250043110291173376/1590066479', 'profile_link_color': '1DA1F2', 'profile_sidebar_border_color': 'C0DEED', 'profile_sidebar_fill_color': 'DDEEF6', 'profile_text_color': '333333', 'profile_use_background_image': True, 'has_extended_profile': True, 'default_profile': True, 'default_profile_image': False, 'following': False, 'follow_request_sent': False, 'notifications': False, 'translator_type': 'none', 'withheld_in_countries': []}, 'geo': None, 'coordinates': None, 'place': None, 'contributors': None, 'retweeted_status': {'created_at': 'Fri Jun 10 10:31:03 +0000 2022', 'id': 1535207909822447619, 'id_str': '1535207909822447619', 'text': 'Apple is looking for VLSI CAD Engineer – Noise and Timing for Gate-Level Flows and Methodologies… https://t.co/X8XDfy8mxw', 'truncated': True, 'entities': {'hashtags': [], 'symbols': [], 'user_mentions': [], 'urls': [{'url': 'https://t.co/X8XDfy8mxw', 'expanded_url': 'https://twitter.com/i/web/status/1535207909822447619', 'display_url': 'twitter.com/i/web/status/1…', 'indices': [98, 121]}]}, 'metadata': {'iso_language_code': 'en', 'result_type': 'recent'}, 'source': '<a href=\"https://help.twitter.com/en/using-twitter/how-to-tweet#source-labels\" rel=\"nofollow\">SeriousGamesJobs</a>', 'in_reply_to_status_id': None, 'in_reply_to_status_id_str': None, 'in_reply_to_user_id': None, 'in_reply_to_user_id_str': None, 'in_reply_to_screen_name': None, 'user': {'id': 1463094498779537414, 'id_str': '1463094498779537414', 'name': 'Python Jobs feed', 'screen_name': 'PythonJobsFeed', 'location': '', 'description': 'An automated feed of open roles seeking Python coders!', 'url': None, 'entities': {'description': {'urls': []}}, 'protected': False, 'followers_count': 243, 'friends_count': 1, 'listed_count': 3, 'created_at': 'Tue Nov 23 10:55:52 +0000 2021', 'favourites_count': 0, 'utc_offset': None, 'time_zone': None, 'geo_enabled': False, 'verified': False, 'statuses_count': 21371, 'lang': None, 'contributors_enabled': False, 'is_translator': False, 'is_translation_enabled': False, 'profile_background_color': 'F5F8FA', 'profile_background_image_url': None, 'profile_background_image_url_https': None, 'profile_background_tile': False, 'profile_image_url': 'http://pbs.twimg.com/profile_images/1463445815603564547/kpYDOUwM_normal.jpg', 'profile_image_url_https': 'https://pbs.twimg.com/profile_images/1463445815603564547/kpYDOUwM_normal.jpg', 'profile_banner_url': 'https://pbs.twimg.com/profile_banners/1463094498779537414/1637747647', 'profile_link_color': '1DA1F2', 'profile_sidebar_border_color': 'C0DEED', 'profile_sidebar_fill_color': 'DDEEF6', 'profile_text_color': '333333', 'profile_use_background_image': True, 'has_extended_profile': True, 'default_profile': True, 'default_profile_image': False, 'following': False, 'follow_request_sent': False, 'notifications': False, 'translator_type': 'none', 'withheld_in_countries': []}, 'geo': None, 'coordinates': None, 'place': None, 'contributors': None, 'is_quote_status': False, 'retweet_count': 2, 'favorite_count': 1, 'favorited': False, 'retweeted': False, 'possibly_sensitive': False, 'lang': 'en'}, 'is_quote_status': False, 'retweet_count': 2, 'favorite_count': 0, 'favorited': False, 'retweeted': False, 'lang': 'en'}, {'created_at': 'Fri Jun 10 10:31:45 +0000 2022', 'id': 1535208086616645632, 'id_str': '1535208086616645632', 'text': 'RT @PythonJobsFeed: Apple is looking for Sr. VLSI CAD Engineer - Timing for Gate-Level Flows &amp; Methodologies\\nhttps://t.co/jz7pp6TZrq Beaver…', 'truncated': False, 'entities': {'hashtags': [], 'symbols': [], 'user_mentions': [{'screen_name': 'PythonJobsFeed', 'name': 'Python Jobs feed', 'id': 1463094498779537414, 'id_str': '1463094498779537414', 'indices': [3, 18]}], 'urls': [{'url': 'https://t.co/jz7pp6TZrq', 'expanded_url': 'https://tinyurl.com/2p8wz834', 'display_url': 'tinyurl.com/2p8wz834', 'indices': [113, 136]}]}, 'metadata': {'iso_language_code': 'en', 'result_type': 'recent'}, 'source': '<a href=\"https://testingthissite.firebaseapp.com\" rel=\"nofollow\">pythonbot007</a>', 'in_reply_to_status_id': None, 'in_reply_to_status_id_str': None, 'in_reply_to_user_id': None, 'in_reply_to_user_id_str': None, 'in_reply_to_screen_name': None, 'user': {'id': 1250043110291173376, 'id_str': '1250043110291173376', 'name': 'Shay Cormac', 'screen_name': 'ShayTweeter', 'location': 'INDIA', 'description': 'I retweet your tweets but only those in which you have used anyone among these two Hashtags\\n1. #python\\n2. #video', 'url': None, 'entities': {'description': {'urls': []}}, 'protected': False, 'followers_count': 917, 'friends_count': 16, 'listed_count': 25, 'created_at': 'Tue Apr 14 12:48:02 +0000 2020', 'favourites_count': 15, 'utc_offset': None, 'time_zone': None, 'geo_enabled': False, 'verified': False, 'statuses_count': 52054, 'lang': None, 'contributors_enabled': False, 'is_translator': False, 'is_translation_enabled': False, 'profile_background_color': 'F5F8FA', 'profile_background_image_url': None, 'profile_background_image_url_https': None, 'profile_background_tile': False, 'profile_image_url': 'http://pbs.twimg.com/profile_images/1263456314765828098/qGiiS9Sw_normal.jpg', 'profile_image_url_https': 'https://pbs.twimg.com/profile_images/1263456314765828098/qGiiS9Sw_normal.jpg', 'profile_banner_url': 'https://pbs.twimg.com/profile_banners/1250043110291173376/1590066479', 'profile_link_color': '1DA1F2', 'profile_sidebar_border_color': 'C0DEED', 'profile_sidebar_fill_color': 'DDEEF6', 'profile_text_color': '333333', 'profile_use_background_image': True, 'has_extended_profile': True, 'default_profile': True, 'default_profile_image': False, 'following': False, 'follow_request_sent': False, 'notifications': False, 'translator_type': 'none', 'withheld_in_countries': []}, 'geo': None, 'coordinates': None, 'place': None, 'contributors': None, 'retweeted_status': {'created_at': 'Fri Jun 10 10:31:02 +0000 2022', 'id': 1535207908618665984, 'id_str': '1535207908618665984', 'text': 'Apple is looking for Sr. VLSI CAD Engineer - Timing for Gate-Level Flows &amp; Methodologies\\nhttps://t.co/jz7pp6TZrq Be… https://t.co/SPEw1YPvEI', 'truncated': True, 'entities': {'hashtags': [], 'symbols': [], 'user_mentions': [], 'urls': [{'url': 'https://t.co/jz7pp6TZrq', 'expanded_url': 'https://tinyurl.com/2p8wz834', 'display_url': 'tinyurl.com/2p8wz834', 'indices': [93, 116]}, {'url': 'https://t.co/SPEw1YPvEI', 'expanded_url': 'https://twitter.com/i/web/status/1535207908618665984', 'display_url': 'twitter.com/i/web/status/1…', 'indices': [121, 144]}]}, 'metadata': {'iso_language_code': 'en', 'result_type': 'recent'}, 'source': '<a href=\"https://help.twitter.com/en/using-twitter/how-to-tweet#source-labels\" rel=\"nofollow\">SeriousGamesJobs</a>', 'in_reply_to_status_id': None, 'in_reply_to_status_id_str': None, 'in_reply_to_user_id': None, 'in_reply_to_user_id_str': None, 'in_reply_to_screen_name': None, 'user': {'id': 1463094498779537414, 'id_str': '1463094498779537414', 'name': 'Python Jobs feed', 'screen_name': 'PythonJobsFeed', 'location': '', 'description': 'An automated feed of open roles seeking Python coders!', 'url': None, 'entities': {'description': {'urls': []}}, 'protected': False, 'followers_count': 243, 'friends_count': 1, 'listed_count': 3, 'created_at': 'Tue Nov 23 10:55:52 +0000 2021', 'favourites_count': 0, 'utc_offset': None, 'time_zone': None, 'geo_enabled': False, 'verified': False, 'statuses_count': 21371, 'lang': None, 'contributors_enabled': False, 'is_translator': False, 'is_translation_enabled': False, 'profile_background_color': 'F5F8FA', 'profile_background_image_url': None, 'profile_background_image_url_https': None, 'profile_background_tile': False, 'profile_image_url': 'http://pbs.twimg.com/profile_images/1463445815603564547/kpYDOUwM_normal.jpg', 'profile_image_url_https': 'https://pbs.twimg.com/profile_images/1463445815603564547/kpYDOUwM_normal.jpg', 'profile_banner_url': 'https://pbs.twimg.com/profile_banners/1463094498779537414/1637747647', 'profile_link_color': '1DA1F2', 'profile_sidebar_border_color': 'C0DEED', 'profile_sidebar_fill_color': 'DDEEF6', 'profile_text_color': '333333', 'profile_use_background_image': True, 'has_extended_profile': True, 'default_profile': True, 'default_profile_image': False, 'following': False, 'follow_request_sent': False, 'notifications': False, 'translator_type': 'none', 'withheld_in_countries': []}, 'geo': None, 'coordinates': None, 'place': None, 'contributors': None, 'is_quote_status': False, 'retweet_count': 1, 'favorite_count': 0, 'favorited': False, 'retweeted': False, 'possibly_sensitive': False, 'lang': 'en'}, 'is_quote_status': False, 'retweet_count': 1, 'favorite_count': 0, 'favorited': False, 'retweeted': False, 'possibly_sensitive': False, 'lang': 'en'}, {'created_at': 'Fri Jun 10 10:31:43 +0000 2022', 'id': 1535208079134175232, 'id_str': '1535208079134175232', 'text': 'Flash Sale ends today | Courses for as little as ₹455.\\nLearn from real-world experts\\n\\nPython for Absolute Beginners… https://t.co/ek1DOv7yw1', 'truncated': True, 'entities': {'hashtags': [], 'symbols': [], 'user_mentions': [], 'urls': [{'url': 'https://t.co/ek1DOv7yw1', 'expanded_url': 'https://twitter.com/i/web/status/1535208079134175232', 'display_url': 'twitter.com/i/web/status/1…', 'indices': [117, 140]}]}, 'metadata': {'iso_language_code': 'en', 'result_type': 'recent'}, 'source': '<a href=\"https://mobile.twitter.com\" rel=\"nofollow\">Twitter Web App</a>', 'in_reply_to_status_id': None, 'in_reply_to_status_id_str': None, 'in_reply_to_user_id': None, 'in_reply_to_user_id_str': None, 'in_reply_to_screen_name': None, 'user': {'id': 1515163291, 'id_str': '1515163291', 'name': 'Hari Systems', 'screen_name': 'harisystems', 'location': 'Around the World', 'description': 'Hari Systems - IT Services | Online Courses | e-Learning | Content  | Trainings | Real-World Projects and more', 'url': 'https://t.co/JnIglHomDL', 'entities': {'url': {'urls': [{'url': 'https://t.co/JnIglHomDL', 'expanded_url': 'http://www.harisystems.com', 'display_url': 'harisystems.com', 'indices': [0, 23]}]}, 'description': {'urls': []}}, 'protected': False, 'followers_count': 150, 'friends_count': 319, 'listed_count': 2, 'created_at': 'Fri Jun 14 03:09:54 +0000 2013', 'favourites_count': 4407, 'utc_offset': None, 'time_zone': None, 'geo_enabled': False, 'verified': False, 'statuses_count': 15004, 'lang': None, 'contributors_enabled': False, 'is_translator': False, 'is_translation_enabled': True, 'profile_background_color': '000000', 'profile_background_image_url': 'http://abs.twimg.com/images/themes/theme1/bg.png', 'profile_background_image_url_https': 'https://abs.twimg.com/images/themes/theme1/bg.png', 'profile_background_tile': False, 'profile_image_url': 'http://pbs.twimg.com/profile_images/1300994223420747778/W1rNGuxg_normal.jpg', 'profile_image_url_https': 'https://pbs.twimg.com/profile_images/1300994223420747778/W1rNGuxg_normal.jpg', 'profile_banner_url': 'https://pbs.twimg.com/profile_banners/1515163291/1654694713', 'profile_link_color': '3B94D9', 'profile_sidebar_border_color': '000000', 'profile_sidebar_fill_color': '000000', 'profile_text_color': '000000', 'profile_use_background_image': False, 'has_extended_profile': False, 'default_profile': False, 'default_profile_image': False, 'following': False, 'follow_request_sent': False, 'notifications': False, 'translator_type': 'none', 'withheld_in_countries': []}, 'geo': None, 'coordinates': None, 'place': None, 'contributors': None, 'is_quote_status': False, 'retweet_count': 0, 'favorite_count': 0, 'favorited': False, 'retweeted': False, 'possibly_sensitive': False, 'lang': 'en'}, {'created_at': 'Fri Jun 10 10:31:37 +0000 2022', 'id': 1535208055834611712, 'id_str': '1535208055834611712', 'text': 'RT @CameraModuleAI: #Robotics #AI #IoT #Security #Surveillance #Video #Imaging #Tensorflow #Matlab #Ubantu #Python #NVIDIA #ADAS #Drone #Ag…', 'truncated': False, 'entities': {'hashtags': [{'text': 'Robotics', 'indices': [20, 29]}, {'text': 'AI', 'indices': [30, 33]}, {'text': 'IoT', 'indices': [34, 38]}, {'text': 'Security', 'indices': [39, 48]}, {'text': 'Surveillance', 'indices': [49, 62]}, {'text': 'Video', 'indices': [63, 69]}, {'text': 'Imaging', 'indices': [70, 78]}, {'text': 'Tensorflow', 'indices': [79, 90]}, {'text': 'Matlab', 'indices': [91, 98]}, {'text': 'Ubantu', 'indices': [99, 106]}, {'text': 'Python', 'indices': [107, 114]}, {'text': 'NVIDIA', 'indices': [115, 122]}, {'text': 'ADAS', 'indices': [123, 128]}, {'text': 'Drone', 'indices': [129, 135]}], 'symbols': [], 'user_mentions': [{'screen_name': 'CameraModuleAI', 'name': 'Camera Module AI', 'id': 1008259824247713792, 'id_str': '1008259824247713792', 'indices': [3, 18]}], 'urls': []}, 'metadata': {'iso_language_code': 'und', 'result_type': 'recent'}, 'source': '<a href=\"https://twitter.com/embedded_guys\" rel=\"nofollow\">Embedde_BOT</a>', 'in_reply_to_status_id': None, 'in_reply_to_status_id_str': None, 'in_reply_to_user_id': None, 'in_reply_to_user_id_str': None, 'in_reply_to_screen_name': None, 'user': {'id': 1272978164742905856, 'id_str': '1272978164742905856', 'name': 'wonderful_embedded_guy', 'screen_name': 'embedded_guys', 'location': '', 'description': \"Hola Embedded Guys. Welcome to my Twitter Page. I'm a BOT who retweet #embedded tweets!\", 'url': None, 'entities': {'description': {'urls': []}}, 'protected': False, 'followers_count': 334, 'friends_count': 0, 'listed_count': 12, 'created_at': 'Tue Jun 16 19:44:06 +0000 2020', 'favourites_count': 0, 'utc_offset': None, 'time_zone': None, 'geo_enabled': False, 'verified': False, 'statuses_count': 34186, 'lang': None, 'contributors_enabled': False, 'is_translator': False, 'is_translation_enabled': False, 'profile_background_color': 'F5F8FA', 'profile_background_image_url': None, 'profile_background_image_url_https': None, 'profile_background_tile': False, 'profile_image_url': 'http://pbs.twimg.com/profile_images/1272978969944416256/XcR-Lwxk_normal.jpg', 'profile_image_url_https': 'https://pbs.twimg.com/profile_images/1272978969944416256/XcR-Lwxk_normal.jpg', 'profile_banner_url': 'https://pbs.twimg.com/profile_banners/1272978164742905856/1592337173', 'profile_link_color': '1DA1F2', 'profile_sidebar_border_color': 'C0DEED', 'profile_sidebar_fill_color': 'DDEEF6', 'profile_text_color': '333333', 'profile_use_background_image': True, 'has_extended_profile': False, 'default_profile': True, 'default_profile_image': False, 'following': False, 'follow_request_sent': False, 'notifications': False, 'translator_type': 'none', 'withheld_in_countries': []}, 'geo': None, 'coordinates': None, 'place': None, 'contributors': None, 'retweeted_status': {'created_at': 'Fri Jun 10 09:32:29 +0000 2022', 'id': 1535193173764427776, 'id_str': '1535193173764427776', 'text': '#Robotics #AI #IoT #Security #Surveillance #Video #Imaging #Tensorflow #Matlab #Ubantu #Python #NVIDIA #ADAS #Drone… https://t.co/51Z28Pydpz', 'truncated': True, 'entities': {'hashtags': [{'text': 'Robotics', 'indices': [0, 9]}, {'text': 'AI', 'indices': [10, 13]}, {'text': 'IoT', 'indices': [14, 18]}, {'text': 'Security', 'indices': [19, 28]}, {'text': 'Surveillance', 'indices': [29, 42]}, {'text': 'Video', 'indices': [43, 49]}, {'text': 'Imaging', 'indices': [50, 58]}, {'text': 'Tensorflow', 'indices': [59, 70]}, {'text': 'Matlab', 'indices': [71, 78]}, {'text': 'Ubantu', 'indices': [79, 86]}, {'text': 'Python', 'indices': [87, 94]}, {'text': 'NVIDIA', 'indices': [95, 102]}, {'text': 'ADAS', 'indices': [103, 108]}, {'text': 'Drone', 'indices': [109, 115]}], 'symbols': [], 'user_mentions': [], 'urls': [{'url': 'https://t.co/51Z28Pydpz', 'expanded_url': 'https://twitter.com/i/web/status/1535193173764427776', 'display_url': 'twitter.com/i/web/status/1…', 'indices': [117, 140]}]}, 'metadata': {'iso_language_code': 'und', 'result_type': 'recent'}, 'source': '<a href=\"https://mobile.twitter.com\" rel=\"nofollow\">Twitter Web App</a>', 'in_reply_to_status_id': None, 'in_reply_to_status_id_str': None, 'in_reply_to_user_id': None, 'in_reply_to_user_id_str': None, 'in_reply_to_screen_name': None, 'user': {'id': 1008259824247713792, 'id_str': '1008259824247713792', 'name': 'Camera Module AI', 'screen_name': 'CameraModuleAI', 'location': 'Worldwide', 'description': 'Camera Module Design, Development, Customization & Manufacturing. \\nEmail: info@camera-module.com', 'url': 'https://t.co/nsEBgMQJjr', 'entities': {'url': {'urls': [{'url': 'https://t.co/nsEBgMQJjr', 'expanded_url': 'http://www.camera-module.com', 'display_url': 'camera-module.com', 'indices': [0, 23]}]}, 'description': {'urls': []}}, 'protected': False, 'followers_count': 1012, 'friends_count': 1042, 'listed_count': 13, 'created_at': 'Sun Jun 17 08:07:29 +0000 2018', 'favourites_count': 12911, 'utc_offset': None, 'time_zone': None, 'geo_enabled': False, 'verified': False, 'statuses_count': 17032, 'lang': None, 'contributors_enabled': False, 'is_translator': False, 'is_translation_enabled': False, 'profile_background_color': '000000', 'profile_background_image_url': 'http://abs.twimg.com/images/themes/theme1/bg.png', 'profile_background_image_url_https': 'https://abs.twimg.com/images/themes/theme1/bg.png', 'profile_background_tile': False, 'profile_image_url': 'http://pbs.twimg.com/profile_images/1194482233375019009/NrcolkGS_normal.jpg', 'profile_image_url_https': 'https://pbs.twimg.com/profile_images/1194482233375019009/NrcolkGS_normal.jpg', 'profile_banner_url': 'https://pbs.twimg.com/profile_banners/1008259824247713792/1644388171', 'profile_link_color': '19CF86', 'profile_sidebar_border_color': '000000', 'profile_sidebar_fill_color': '000000', 'profile_text_color': '000000', 'profile_use_background_image': False, 'has_extended_profile': True, 'default_profile': False, 'default_profile_image': False, 'following': False, 'follow_request_sent': False, 'notifications': False, 'translator_type': 'none', 'withheld_in_countries': []}, 'geo': None, 'coordinates': None, 'place': None, 'contributors': None, 'is_quote_status': False, 'retweet_count': 5, 'favorite_count': 1, 'favorited': False, 'retweeted': False, 'possibly_sensitive': False, 'lang': 'und'}, 'is_quote_status': False, 'retweet_count': 5, 'favorite_count': 0, 'favorited': False, 'retweeted': False, 'lang': 'und'}], 'search_metadata': {'completed_in': 0.197, 'max_id': 1535208364753358851, 'max_id_str': '1535208364753358851', 'next_results': '?max_id=1535208055834611711&q=%23python&include_entities=1', 'query': '%23python', 'refresh_url': '?since_id=1535208364753358851&q=%23python&include_entities=1', 'count': 15, 'since_id': 0, 'since_id_str': '0'}}\n"
     ]
    }
   ],
   "source": [
    "# Run a test with #python\n",
    "python_tweets = twitter_api.search.tweets(q=\"#python\")\n",
    "\n",
    "# View output\n",
    "print(python_tweets)"
   ]
  },
  {
   "cell_type": "markdown",
   "id": "8a657692",
   "metadata": {},
   "source": [
    "## 1. Test connection"
   ]
  },
  {
   "cell_type": "code",
   "execution_count": 14,
   "id": "30f249f6",
   "metadata": {},
   "outputs": [
    {
     "data": {
      "text/plain": [
       "30"
      ]
     },
     "execution_count": 14,
     "metadata": {},
     "output_type": "execute_result"
    }
   ],
   "source": [
    "# Query the term cheesecake\n",
    "q = {'q':'cheesecake', 'count':100, 'result_type':'recent'}\n",
    "results = []\n",
    "\n",
    "while len(results) < 30:\n",
    "    query = twitter_api.search.tweets(**q)\n",
    "    q['max_id'] = query['search_metadata']['next_results'].split('&')[0].split('?max_id=')[1]\n",
    "    results.append(query)\n",
    "    \n",
    "# Determine the number of results\n",
    "len(results) \n"
   ]
  },
  {
   "cell_type": "markdown",
   "id": "abb192e4",
   "metadata": {},
   "source": [
    "## 2. Create DataFrames"
   ]
  },
  {
   "cell_type": "code",
   "execution_count": 15,
   "id": "2ec148ac",
   "metadata": {},
   "outputs": [
    {
     "data": {
      "text/html": [
       "<div>\n",
       "<style scoped>\n",
       "    .dataframe tbody tr th:only-of-type {\n",
       "        vertical-align: middle;\n",
       "    }\n",
       "\n",
       "    .dataframe tbody tr th {\n",
       "        vertical-align: top;\n",
       "    }\n",
       "\n",
       "    .dataframe thead th {\n",
       "        text-align: right;\n",
       "    }\n",
       "</style>\n",
       "<table border=\"1\" class=\"dataframe\">\n",
       "  <thead>\n",
       "    <tr style=\"text-align: right;\">\n",
       "      <th></th>\n",
       "      <th>created_at</th>\n",
       "      <th>id</th>\n",
       "      <th>id_str</th>\n",
       "      <th>text</th>\n",
       "      <th>truncated</th>\n",
       "      <th>entities</th>\n",
       "      <th>extended_entities</th>\n",
       "      <th>metadata</th>\n",
       "      <th>source</th>\n",
       "      <th>in_reply_to_status_id</th>\n",
       "      <th>...</th>\n",
       "      <th>retweet_count</th>\n",
       "      <th>favorite_count</th>\n",
       "      <th>favorited</th>\n",
       "      <th>retweeted</th>\n",
       "      <th>possibly_sensitive</th>\n",
       "      <th>lang</th>\n",
       "      <th>retweeted_status</th>\n",
       "      <th>quoted_status_id</th>\n",
       "      <th>quoted_status_id_str</th>\n",
       "      <th>quoted_status</th>\n",
       "    </tr>\n",
       "  </thead>\n",
       "  <tbody>\n",
       "    <tr>\n",
       "      <th>0</th>\n",
       "      <td>Fri Jun 10 10:32:21 +0000 2022</td>\n",
       "      <td>1535208238442061827</td>\n",
       "      <td>1535208238442061827</td>\n",
       "      <td>Making strawberry cheesecake today 🍰😋 https://...</td>\n",
       "      <td>False</td>\n",
       "      <td>{'hashtags': [], 'symbols': [], 'user_mentions...</td>\n",
       "      <td>{'media': [{'id': 1535208223841697799, 'id_str...</td>\n",
       "      <td>{'iso_language_code': 'en', 'result_type': 're...</td>\n",
       "      <td>&lt;a href=\"http://twitter.com/download/android\" ...</td>\n",
       "      <td>NaN</td>\n",
       "      <td>...</td>\n",
       "      <td>0</td>\n",
       "      <td>1</td>\n",
       "      <td>False</td>\n",
       "      <td>False</td>\n",
       "      <td>False</td>\n",
       "      <td>en</td>\n",
       "      <td>NaN</td>\n",
       "      <td>NaN</td>\n",
       "      <td>NaN</td>\n",
       "      <td>NaN</td>\n",
       "    </tr>\n",
       "    <tr>\n",
       "      <th>1</th>\n",
       "      <td>Fri Jun 10 10:32:14 +0000 2022</td>\n",
       "      <td>1535208207760564224</td>\n",
       "      <td>1535208207760564224</td>\n",
       "      <td>iced coffee ▫️ cheesecake ▫️notes▫️ https://t....</td>\n",
       "      <td>False</td>\n",
       "      <td>{'hashtags': [], 'symbols': [], 'user_mentions...</td>\n",
       "      <td>{'media': [{'id': 1535208152479993857, 'id_str...</td>\n",
       "      <td>{'iso_language_code': 'en', 'result_type': 're...</td>\n",
       "      <td>&lt;a href=\"http://twitter.com/download/android\" ...</td>\n",
       "      <td>NaN</td>\n",
       "      <td>...</td>\n",
       "      <td>0</td>\n",
       "      <td>0</td>\n",
       "      <td>False</td>\n",
       "      <td>False</td>\n",
       "      <td>False</td>\n",
       "      <td>en</td>\n",
       "      <td>NaN</td>\n",
       "      <td>NaN</td>\n",
       "      <td>NaN</td>\n",
       "      <td>NaN</td>\n",
       "    </tr>\n",
       "    <tr>\n",
       "      <th>2</th>\n",
       "      <td>Fri Jun 10 10:32:07 +0000 2022</td>\n",
       "      <td>1535208178992173059</td>\n",
       "      <td>1535208178992173059</td>\n",
       "      <td>ホームズ...ホームズほしい</td>\n",
       "      <td>False</td>\n",
       "      <td>{'hashtags': [], 'symbols': [], 'user_mentions...</td>\n",
       "      <td>NaN</td>\n",
       "      <td>{'iso_language_code': 'ja', 'result_type': 're...</td>\n",
       "      <td>&lt;a href=\"http://twitter.com/download/iphone\" r...</td>\n",
       "      <td>NaN</td>\n",
       "      <td>...</td>\n",
       "      <td>0</td>\n",
       "      <td>0</td>\n",
       "      <td>False</td>\n",
       "      <td>False</td>\n",
       "      <td>NaN</td>\n",
       "      <td>ja</td>\n",
       "      <td>NaN</td>\n",
       "      <td>NaN</td>\n",
       "      <td>NaN</td>\n",
       "      <td>NaN</td>\n",
       "    </tr>\n",
       "    <tr>\n",
       "      <th>3</th>\n",
       "      <td>Fri Jun 10 10:32:04 +0000 2022</td>\n",
       "      <td>1535208168719953922</td>\n",
       "      <td>1535208168719953922</td>\n",
       "      <td>RT @janespatisserie: Summer Berry Cheesecake 🍓...</td>\n",
       "      <td>False</td>\n",
       "      <td>{'hashtags': [], 'symbols': [], 'user_mentions...</td>\n",
       "      <td>{'media': [{'id': 1512024765988581380, 'id_str...</td>\n",
       "      <td>{'iso_language_code': 'en', 'result_type': 're...</td>\n",
       "      <td>&lt;a href=\"http://twitter.com/download/android\" ...</td>\n",
       "      <td>NaN</td>\n",
       "      <td>...</td>\n",
       "      <td>99</td>\n",
       "      <td>0</td>\n",
       "      <td>False</td>\n",
       "      <td>False</td>\n",
       "      <td>False</td>\n",
       "      <td>en</td>\n",
       "      <td>{'created_at': 'Thu Jun 09 17:00:01 +0000 2022...</td>\n",
       "      <td>NaN</td>\n",
       "      <td>NaN</td>\n",
       "      <td>NaN</td>\n",
       "    </tr>\n",
       "    <tr>\n",
       "      <th>4</th>\n",
       "      <td>Fri Jun 10 10:31:45 +0000 2022</td>\n",
       "      <td>1535208085723168768</td>\n",
       "      <td>1535208085723168768</td>\n",
       "      <td>RT @fgoproject: 【カルデア広報局より】\\n6月10日(金)18:00より期間...</td>\n",
       "      <td>False</td>\n",
       "      <td>{'hashtags': [], 'symbols': [], 'user_mentions...</td>\n",
       "      <td>NaN</td>\n",
       "      <td>{'iso_language_code': 'ja', 'result_type': 're...</td>\n",
       "      <td>&lt;a href=\"http://twitter.com/download/iphone\" r...</td>\n",
       "      <td>NaN</td>\n",
       "      <td>...</td>\n",
       "      <td>3111</td>\n",
       "      <td>0</td>\n",
       "      <td>False</td>\n",
       "      <td>False</td>\n",
       "      <td>NaN</td>\n",
       "      <td>ja</td>\n",
       "      <td>{'created_at': 'Fri Jun 10 09:10:47 +0000 2022...</td>\n",
       "      <td>NaN</td>\n",
       "      <td>NaN</td>\n",
       "      <td>NaN</td>\n",
       "    </tr>\n",
       "  </tbody>\n",
       "</table>\n",
       "<p>5 rows × 30 columns</p>\n",
       "</div>"
      ],
      "text/plain": [
       "                       created_at                   id               id_str  \\\n",
       "0  Fri Jun 10 10:32:21 +0000 2022  1535208238442061827  1535208238442061827   \n",
       "1  Fri Jun 10 10:32:14 +0000 2022  1535208207760564224  1535208207760564224   \n",
       "2  Fri Jun 10 10:32:07 +0000 2022  1535208178992173059  1535208178992173059   \n",
       "3  Fri Jun 10 10:32:04 +0000 2022  1535208168719953922  1535208168719953922   \n",
       "4  Fri Jun 10 10:31:45 +0000 2022  1535208085723168768  1535208085723168768   \n",
       "\n",
       "                                                text  truncated  \\\n",
       "0  Making strawberry cheesecake today 🍰😋 https://...      False   \n",
       "1  iced coffee ▫️ cheesecake ▫️notes▫️ https://t....      False   \n",
       "2                                     ホームズ...ホームズほしい      False   \n",
       "3  RT @janespatisserie: Summer Berry Cheesecake 🍓...      False   \n",
       "4  RT @fgoproject: 【カルデア広報局より】\\n6月10日(金)18:00より期間...      False   \n",
       "\n",
       "                                            entities  \\\n",
       "0  {'hashtags': [], 'symbols': [], 'user_mentions...   \n",
       "1  {'hashtags': [], 'symbols': [], 'user_mentions...   \n",
       "2  {'hashtags': [], 'symbols': [], 'user_mentions...   \n",
       "3  {'hashtags': [], 'symbols': [], 'user_mentions...   \n",
       "4  {'hashtags': [], 'symbols': [], 'user_mentions...   \n",
       "\n",
       "                                   extended_entities  \\\n",
       "0  {'media': [{'id': 1535208223841697799, 'id_str...   \n",
       "1  {'media': [{'id': 1535208152479993857, 'id_str...   \n",
       "2                                                NaN   \n",
       "3  {'media': [{'id': 1512024765988581380, 'id_str...   \n",
       "4                                                NaN   \n",
       "\n",
       "                                            metadata  \\\n",
       "0  {'iso_language_code': 'en', 'result_type': 're...   \n",
       "1  {'iso_language_code': 'en', 'result_type': 're...   \n",
       "2  {'iso_language_code': 'ja', 'result_type': 're...   \n",
       "3  {'iso_language_code': 'en', 'result_type': 're...   \n",
       "4  {'iso_language_code': 'ja', 'result_type': 're...   \n",
       "\n",
       "                                              source  in_reply_to_status_id  \\\n",
       "0  <a href=\"http://twitter.com/download/android\" ...                    NaN   \n",
       "1  <a href=\"http://twitter.com/download/android\" ...                    NaN   \n",
       "2  <a href=\"http://twitter.com/download/iphone\" r...                    NaN   \n",
       "3  <a href=\"http://twitter.com/download/android\" ...                    NaN   \n",
       "4  <a href=\"http://twitter.com/download/iphone\" r...                    NaN   \n",
       "\n",
       "   ... retweet_count  favorite_count favorited retweeted possibly_sensitive  \\\n",
       "0  ...             0               1     False     False              False   \n",
       "1  ...             0               0     False     False              False   \n",
       "2  ...             0               0     False     False                NaN   \n",
       "3  ...            99               0     False     False              False   \n",
       "4  ...          3111               0     False     False                NaN   \n",
       "\n",
       "  lang                                   retweeted_status quoted_status_id  \\\n",
       "0   en                                                NaN              NaN   \n",
       "1   en                                                NaN              NaN   \n",
       "2   ja                                                NaN              NaN   \n",
       "3   en  {'created_at': 'Thu Jun 09 17:00:01 +0000 2022...              NaN   \n",
       "4   ja  {'created_at': 'Fri Jun 10 09:10:47 +0000 2022...              NaN   \n",
       "\n",
       "  quoted_status_id_str  quoted_status  \n",
       "0                  NaN            NaN  \n",
       "1                  NaN            NaN  \n",
       "2                  NaN            NaN  \n",
       "3                  NaN            NaN  \n",
       "4                  NaN            NaN  \n",
       "\n",
       "[5 rows x 30 columns]"
      ]
     },
     "execution_count": 15,
     "metadata": {},
     "output_type": "execute_result"
    }
   ],
   "source": [
    "# Import pandas to join the DataFrames\n",
    "import pandas as pd\n",
    "\n",
    "# Concat DataFrames\n",
    "results_list_pd = pd.concat([pd.DataFrame(_['statuses']) for _ in results])\n",
    "\n",
    "# View shape of output\n",
    "results_list_pd.head()\n"
   ]
  },
  {
   "cell_type": "code",
   "execution_count": 18,
   "id": "a69e4f08",
   "metadata": {},
   "outputs": [],
   "source": [
    "# Determine values of output\n",
    "results_list_values = results_list_pd['text'].values\n"
   ]
  },
  {
   "cell_type": "markdown",
   "id": "5946755e",
   "metadata": {},
   "source": [
    "## 3. Investigate tweets"
   ]
  },
  {
   "cell_type": "code",
   "execution_count": 19,
   "id": "51943af2",
   "metadata": {},
   "outputs": [
    {
     "name": "stderr",
     "output_type": "stream",
     "text": [
      "[nltk_data] Downloading package stopwords to\n",
      "[nltk_data]     /Users/hamdihassan/nltk_data...\n",
      "[nltk_data]   Package stopwords is already up-to-date!\n"
     ]
    }
   ],
   "source": [
    "# Import nltk and the required resources\n",
    "import nltk\n",
    "from nltk.corpus import stopwords\n",
    "from nltk.corpus import words\n",
    "nltk.download('stopwords')\n",
    "from nltk.tokenize import word_tokenize\n",
    "\n",
    "stop_words = set(stopwords.words('english'))"
   ]
  },
  {
   "cell_type": "code",
   "execution_count": 20,
   "id": "c8684a02",
   "metadata": {},
   "outputs": [
    {
     "data": {
      "text/plain": [
       "'iced coffee ▫️ cheesecake ▫️notes▫️ https://t.co/UTKsIGzGZV'"
      ]
     },
     "execution_count": 20,
     "metadata": {},
     "output_type": "execute_result"
    }
   ],
   "source": [
    "# Look at one raw tweet\n",
    "results_list_values[1]"
   ]
  },
  {
   "cell_type": "code",
   "execution_count": 21,
   "id": "bf683cd6",
   "metadata": {},
   "outputs": [],
   "source": [
    "# Split up each tweet into individual words\n",
    "results_list_values_token = [word_tokenize(_) for _ in results_list_values]"
   ]
  },
  {
   "cell_type": "code",
   "execution_count": 22,
   "id": "5fec69a1",
   "metadata": {},
   "outputs": [
    {
     "name": "stderr",
     "output_type": "stream",
     "text": [
      "[nltk_data] Downloading package words to\n",
      "[nltk_data]     /Users/hamdihassan/nltk_data...\n",
      "[nltk_data]   Package words is already up-to-date!\n"
     ]
    }
   ],
   "source": [
    "# Get a list of all english words so we can exclude anything that doesnt appear on the list\n",
    "import nltk\n",
    "nltk.download('words')\n",
    "\n",
    "all_english_words = set(words.words())"
   ]
  },
  {
   "cell_type": "code",
   "execution_count": 25,
   "id": "3fdfb97a",
   "metadata": {},
   "outputs": [],
   "source": [
    "# Some pre-processing:\n",
    "#-- lets get every word\n",
    "#-- lets convert it to lowercase\n",
    "#-- only include if the word is alphanumeric and if it is in the list of English words.\n",
    "\n",
    "results_list_values_token_nostop =\\\n",
    "[[y.lower() for y in x if y.lower() not in stop_words and y.isalpha() and y.lower() in all_english_words]\\\n",
    " for x in results_list_values_token]"
   ]
  },
  {
   "cell_type": "code",
   "execution_count": 24,
   "id": "99ba3c12",
   "metadata": {},
   "outputs": [
    {
     "data": {
      "text/plain": [
       "['iced', 'coffee', 'cheesecake']"
      ]
     },
     "execution_count": 24,
     "metadata": {},
     "output_type": "execute_result"
    }
   ],
   "source": [
    "# Let's have a look at the same tweet as above\n",
    "results_list_values_token_nostop[1]"
   ]
  },
  {
   "cell_type": "code",
   "execution_count": 29,
   "id": "06b08347",
   "metadata": {},
   "outputs": [
    {
     "name": "stderr",
     "output_type": "stream",
     "text": [
      "[nltk_data] Downloading package vader_lexicon to\n",
      "[nltk_data]     /Users/hamdihassan/nltk_data...\n"
     ]
    },
    {
     "data": {
      "text/plain": [
       "True"
      ]
     },
     "execution_count": 29,
     "metadata": {},
     "output_type": "execute_result"
    }
   ],
   "source": [
    "nltk.download('vader_lexicon')"
   ]
  },
  {
   "cell_type": "code",
   "execution_count": 30,
   "id": "5b22e2ae",
   "metadata": {},
   "outputs": [],
   "source": [
    "# Import the vader classs and create a object of the analyzer called Darth Vader\n",
    "from nltk.sentiment.vader import SentimentIntensityAnalyzer\n",
    "\n",
    "# Create a variable to store the sia\n",
    "darth_vader = SentimentIntensityAnalyzer()"
   ]
  },
  {
   "cell_type": "code",
   "execution_count": 31,
   "id": "f01a7f9c",
   "metadata": {},
   "outputs": [],
   "source": [
    "# Run through a dictionary comprehension to take every cleaned tweet \n",
    "# Next run the polarity score function on the string.\n",
    "# This will return four values in a dictionary\n",
    "\n",
    "results_list_values_token_nostop_polarity =\\\n",
    "{\" \".join(_) : darth_vader.polarity_scores(\" \".join(_)) for _ in results_list_values_token_nostop}"
   ]
  },
  {
   "cell_type": "code",
   "execution_count": 32,
   "id": "e3aa2eb1",
   "metadata": {},
   "outputs": [],
   "source": [
    "# Convert the list of dictionary results to a pandas dataframe. \n",
    "# The index is the cleaned tweet.\n",
    "# We can see some of the highly positive words \n",
    "\n",
    "polarity_pd = pd.DataFrame(results_list_values_token_nostop_polarity).T"
   ]
  },
  {
   "cell_type": "code",
   "execution_count": 33,
   "id": "7333b799",
   "metadata": {},
   "outputs": [
    {
     "data": {
      "text/html": [
       "<div>\n",
       "<style scoped>\n",
       "    .dataframe tbody tr th:only-of-type {\n",
       "        vertical-align: middle;\n",
       "    }\n",
       "\n",
       "    .dataframe tbody tr th {\n",
       "        vertical-align: top;\n",
       "    }\n",
       "\n",
       "    .dataframe thead th {\n",
       "        text-align: right;\n",
       "    }\n",
       "</style>\n",
       "<table border=\"1\" class=\"dataframe\">\n",
       "  <thead>\n",
       "    <tr style=\"text-align: right;\">\n",
       "      <th></th>\n",
       "      <th>neg</th>\n",
       "      <th>neu</th>\n",
       "      <th>pos</th>\n",
       "      <th>compound</th>\n",
       "    </tr>\n",
       "  </thead>\n",
       "  <tbody>\n",
       "    <tr>\n",
       "      <th>hug</th>\n",
       "      <td>0.0</td>\n",
       "      <td>0.0</td>\n",
       "      <td>1.0</td>\n",
       "      <td>0.4767</td>\n",
       "    </tr>\n",
       "    <tr>\n",
       "      <th>truly</th>\n",
       "      <td>0.0</td>\n",
       "      <td>0.0</td>\n",
       "      <td>1.0</td>\n",
       "      <td>0.4404</td>\n",
       "    </tr>\n",
       "    <tr>\n",
       "      <th>definitely</th>\n",
       "      <td>0.0</td>\n",
       "      <td>0.0</td>\n",
       "      <td>1.0</td>\n",
       "      <td>0.4019</td>\n",
       "    </tr>\n",
       "    <tr>\n",
       "      <th>like</th>\n",
       "      <td>0.0</td>\n",
       "      <td>0.0</td>\n",
       "      <td>1.0</td>\n",
       "      <td>0.3612</td>\n",
       "    </tr>\n",
       "    <tr>\n",
       "      <th>cute</th>\n",
       "      <td>0.0</td>\n",
       "      <td>0.0</td>\n",
       "      <td>1.0</td>\n",
       "      <td>0.4588</td>\n",
       "    </tr>\n",
       "  </tbody>\n",
       "</table>\n",
       "</div>"
      ],
      "text/plain": [
       "            neg  neu  pos  compound\n",
       "hug         0.0  0.0  1.0    0.4767\n",
       "truly       0.0  0.0  1.0    0.4404\n",
       "definitely  0.0  0.0  1.0    0.4019\n",
       "like        0.0  0.0  1.0    0.3612\n",
       "cute        0.0  0.0  1.0    0.4588"
      ]
     },
     "execution_count": 33,
     "metadata": {},
     "output_type": "execute_result"
    }
   ],
   "source": [
    "# Get the top 5 most positive cleaned tweets related to cheesecake\n",
    "polarity_pd.sort_values('pos', ascending=0).head(5)"
   ]
  },
  {
   "cell_type": "code",
   "execution_count": 34,
   "id": "88cad706",
   "metadata": {},
   "outputs": [
    {
     "data": {
      "text/html": [
       "<div>\n",
       "<style scoped>\n",
       "    .dataframe tbody tr th:only-of-type {\n",
       "        vertical-align: middle;\n",
       "    }\n",
       "\n",
       "    .dataframe tbody tr th {\n",
       "        vertical-align: top;\n",
       "    }\n",
       "\n",
       "    .dataframe thead th {\n",
       "        text-align: right;\n",
       "    }\n",
       "</style>\n",
       "<table border=\"1\" class=\"dataframe\">\n",
       "  <thead>\n",
       "    <tr style=\"text-align: right;\">\n",
       "      <th></th>\n",
       "      <th>neg</th>\n",
       "      <th>neu</th>\n",
       "      <th>pos</th>\n",
       "      <th>compound</th>\n",
       "    </tr>\n",
       "  </thead>\n",
       "  <tbody>\n",
       "    <tr>\n",
       "      <th>fear</th>\n",
       "      <td>1.000</td>\n",
       "      <td>0.000</td>\n",
       "      <td>0.0</td>\n",
       "      <td>-0.4939</td>\n",
       "    </tr>\n",
       "    <tr>\n",
       "      <th>crying</th>\n",
       "      <td>1.000</td>\n",
       "      <td>0.000</td>\n",
       "      <td>0.0</td>\n",
       "      <td>-0.4767</td>\n",
       "    </tr>\n",
       "    <tr>\n",
       "      <th>reckless</th>\n",
       "      <td>1.000</td>\n",
       "      <td>0.000</td>\n",
       "      <td>0.0</td>\n",
       "      <td>-0.4019</td>\n",
       "    </tr>\n",
       "    <tr>\n",
       "      <th>cheesecake disappointed lack</th>\n",
       "      <td>0.844</td>\n",
       "      <td>0.156</td>\n",
       "      <td>0.0</td>\n",
       "      <td>-0.6597</td>\n",
       "    </tr>\n",
       "    <tr>\n",
       "      <th>suck titty cheesecake dead ass</th>\n",
       "      <td>0.843</td>\n",
       "      <td>0.157</td>\n",
       "      <td>0.0</td>\n",
       "      <td>-0.8934</td>\n",
       "    </tr>\n",
       "  </tbody>\n",
       "</table>\n",
       "</div>"
      ],
      "text/plain": [
       "                                  neg    neu  pos  compound\n",
       "fear                            1.000  0.000  0.0   -0.4939\n",
       "crying                          1.000  0.000  0.0   -0.4767\n",
       "reckless                        1.000  0.000  0.0   -0.4019\n",
       "cheesecake disappointed lack    0.844  0.156  0.0   -0.6597\n",
       "suck titty cheesecake dead ass  0.843  0.157  0.0   -0.8934"
      ]
     },
     "execution_count": 34,
     "metadata": {},
     "output_type": "execute_result"
    }
   ],
   "source": [
    "# Get the top 5 most negative words related to cheesecake\n",
    "polarity_pd.sort_values('neg', ascending=0).head(5)"
   ]
  },
  {
   "cell_type": "code",
   "execution_count": 35,
   "id": "8bf47713",
   "metadata": {},
   "outputs": [
    {
     "data": {
      "text/plain": [
       "count    992.000000\n",
       "mean       0.127494\n",
       "std        0.346848\n",
       "min       -0.932500\n",
       "25%        0.000000\n",
       "50%        0.000000\n",
       "75%        0.386825\n",
       "max        0.942300\n",
       "Name: compound, dtype: float64"
      ]
     },
     "execution_count": 35,
     "metadata": {},
     "output_type": "execute_result"
    }
   ],
   "source": [
    "# The describe function on the compound will show the distribution and moments. \n",
    "# The average is 0.1 so slightly positive\n",
    "polarity_pd['compound'].describe()"
   ]
  },
  {
   "cell_type": "code",
   "execution_count": 39,
   "id": "249fb9f5",
   "metadata": {},
   "outputs": [
    {
     "data": {
      "image/png": "[encoded data removed]",
      "text/plain": [
       "<Figure size 432x288 with 2 Axes>"
      ]
     },
     "metadata": {
      "needs_background": "light"
     },
     "output_type": "display_data"
    }
   ],
   "source": [
    "# Sometimes the best way to see is to plot. \n",
    "# In the data sampled here many of the values are 0\n",
    "# There are less negative values than positive but the negative values are highly negative.\n",
    "\n",
    "%matplotlib inline\n",
    "import matplotlib.pyplot as plt\n",
    "\n",
    "_plot = polarity_pd.reset_index()['compound'].sort_values()\n",
    "_plot.plot(kind='bar')\n",
    "ax1 = plt.axes()\n",
    "x_axis = ax1.axes.get_xaxis()\n",
    "x_axis.set_visible(False)\n",
    "\n",
    "plt.show()\n",
    "plt.close()"
   ]
  },
  {
   "cell_type": "code",
   "execution_count": 40,
   "id": "9b08bd18",
   "metadata": {},
   "outputs": [
    {
     "data": {
      "text/plain": [
       "<AxesSubplot:>"
      ]
     },
     "execution_count": 40,
     "metadata": {},
     "output_type": "execute_result"
    },
    {
     "data": {
      "image/png": "[encoded data removed]",
      "text/plain": [
       "<Figure size 432x288 with 1 Axes>"
      ]
     },
     "metadata": {
      "needs_background": "light"
     },
     "output_type": "display_data"
    }
   ],
   "source": [
    "# The boxplot is a nice way to see how many values sit on the edges as outliers.\n",
    "_plot = polarity_pd.reset_index()['compound'].sort_values()\n",
    "_plot.plot(kind='box')"
   ]
  },
  {
   "cell_type": "code",
   "execution_count": null,
   "id": "acbd43b0",
   "metadata": {},
   "outputs": [],
   "source": []
  }
 ],
 "metadata": {
  "kernelspec": {
   "display_name": "Python 3 (ipykernel)",
   "language": "python",
   "name": "python3"
  },
  "language_info": {
   "codemirror_mode": {
    "name": "ipython",
    "version": 3
   },
   "file_extension": ".py",
   "mimetype": "text/x-python",
   "name": "python",
   "nbconvert_exporter": "python",
   "pygments_lexer": "ipython3",
   "version": "3.9.7"
  }
 },
 "nbformat": 4,
 "nbformat_minor": 5
}
