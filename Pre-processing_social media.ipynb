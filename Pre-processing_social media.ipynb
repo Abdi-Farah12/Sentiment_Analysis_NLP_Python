{
 "cells": [
  {
   "cell_type": "markdown",
   "id": "9caeed57",
   "metadata": {},
   "source": [
    "##  1. Prepare your workstation"
   ]
  },
  {
   "cell_type": "code",
   "execution_count": 2,
   "id": "281c8aa3",
   "metadata": {},
   "outputs": [],
   "source": [
    "# Copy the YAML file and your Twitter keys over to this Jupyter Notebook before you start to work\n",
    "import yaml\n",
    "from yaml.loader import SafeLoader\n",
    "from twitter import *\n",
    "\n",
    "# Import the yaml file - remember to specify the whole path and use / between directories\n",
    "twitter_creds = yaml.safe_load(open('twitter.yaml', 'r').read())"
   ]
  },
  {
   "cell_type": "code",
   "execution_count": 3,
   "id": "0034d517",
   "metadata": {},
   "outputs": [],
   "source": [
    "# Pass your twitter credentials\n",
    "twitter_api = Twitter(auth=OAuth(twitter_creds['access_token'],\n",
    "                                 twitter_creds['access_token_secret'], \n",
    "                                 twitter_creds['api_key'],\n",
    "                                 twitter_creds['api_secret_key'] ))"
   ]
  },
  {
   "cell_type": "code",
   "execution_count": 4,
   "id": "61fd5279",
   "metadata": {},
   "outputs": [
    {
     "name": "stdout",
     "output_type": "stream",
     "text": [
      "<twitter.api.Twitter object at 0x7f9e4e48cd00>\n"
     ]
    }
   ],
   "source": [
    "# See if you are connected\n",
    "print(twitter_api)"
   ]
  },
  {
   "cell_type": "markdown",
   "id": "1421092e",
   "metadata": {},
   "source": [
    "## 2. Query Twitter for keyphrases"
   ]
  },
  {
   "cell_type": "code",
   "execution_count": 8,
   "id": "a8a8ddbf",
   "metadata": {},
   "outputs": [
    {
     "data": {
      "text/plain": [
       "30"
      ]
     },
     "execution_count": 8,
     "metadata": {},
     "output_type": "execute_result"
    }
   ],
   "source": [
    "q = {'q':'Cheesecake', 'count':100, 'result_type':'recent'}\n",
    "\n",
    "results = []\n",
    "\n",
    "while len(results) < 30:\n",
    "    query = twitter_api.search.tweets(**q)\n",
    "    q['max_id'] = query['search_metadata']['next_results'].split('&')[0].split('?max_id=')[1]\n",
    "    results.append(query)\n",
    "    \n",
    "# Determine the number of results\n",
    "len(results) "
   ]
  },
  {
   "cell_type": "markdown",
   "id": "abd89b95",
   "metadata": {},
   "source": [
    "## 2. Create DataFrames"
   ]
  },
  {
   "cell_type": "code",
   "execution_count": 9,
   "id": "b5573a86",
   "metadata": {},
   "outputs": [
    {
     "data": {
      "text/html": [
       "<div>\n",
       "<style scoped>\n",
       "    .dataframe tbody tr th:only-of-type {\n",
       "        vertical-align: middle;\n",
       "    }\n",
       "\n",
       "    .dataframe tbody tr th {\n",
       "        vertical-align: top;\n",
       "    }\n",
       "\n",
       "    .dataframe thead th {\n",
       "        text-align: right;\n",
       "    }\n",
       "</style>\n",
       "<table border=\"1\" class=\"dataframe\">\n",
       "  <thead>\n",
       "    <tr style=\"text-align: right;\">\n",
       "      <th></th>\n",
       "      <th>created_at</th>\n",
       "      <th>id</th>\n",
       "      <th>id_str</th>\n",
       "      <th>text</th>\n",
       "      <th>truncated</th>\n",
       "      <th>entities</th>\n",
       "      <th>metadata</th>\n",
       "      <th>source</th>\n",
       "      <th>in_reply_to_status_id</th>\n",
       "      <th>in_reply_to_status_id_str</th>\n",
       "      <th>...</th>\n",
       "      <th>favorite_count</th>\n",
       "      <th>favorited</th>\n",
       "      <th>retweeted</th>\n",
       "      <th>lang</th>\n",
       "      <th>retweeted_status</th>\n",
       "      <th>possibly_sensitive</th>\n",
       "      <th>extended_entities</th>\n",
       "      <th>quoted_status_id</th>\n",
       "      <th>quoted_status_id_str</th>\n",
       "      <th>quoted_status</th>\n",
       "    </tr>\n",
       "  </thead>\n",
       "  <tbody>\n",
       "    <tr>\n",
       "      <th>0</th>\n",
       "      <td>Fri Jun 10 09:39:24 +0000 2022</td>\n",
       "      <td>1535194914015051776</td>\n",
       "      <td>1535194914015051776</td>\n",
       "      <td>ましろ可愛いね</td>\n",
       "      <td>False</td>\n",
       "      <td>{'hashtags': [], 'symbols': [], 'user_mentions...</td>\n",
       "      <td>{'iso_language_code': 'ja', 'result_type': 're...</td>\n",
       "      <td>&lt;a href=\"http://twitter.com/download/android\" ...</td>\n",
       "      <td>NaN</td>\n",
       "      <td>None</td>\n",
       "      <td>...</td>\n",
       "      <td>0</td>\n",
       "      <td>False</td>\n",
       "      <td>False</td>\n",
       "      <td>ja</td>\n",
       "      <td>NaN</td>\n",
       "      <td>NaN</td>\n",
       "      <td>NaN</td>\n",
       "      <td>NaN</td>\n",
       "      <td>NaN</td>\n",
       "      <td>NaN</td>\n",
       "    </tr>\n",
       "    <tr>\n",
       "      <th>1</th>\n",
       "      <td>Fri Jun 10 09:39:21 +0000 2022</td>\n",
       "      <td>1535194901591166976</td>\n",
       "      <td>1535194901591166976</td>\n",
       "      <td>RT @AilsaForshaw: When I make the 'Marry Me Ch...</td>\n",
       "      <td>False</td>\n",
       "      <td>{'hashtags': [], 'symbols': [], 'user_mentions...</td>\n",
       "      <td>{'iso_language_code': 'en', 'result_type': 're...</td>\n",
       "      <td>&lt;a href=\"https://mobile.twitter.com\" rel=\"nofo...</td>\n",
       "      <td>NaN</td>\n",
       "      <td>None</td>\n",
       "      <td>...</td>\n",
       "      <td>0</td>\n",
       "      <td>False</td>\n",
       "      <td>False</td>\n",
       "      <td>en</td>\n",
       "      <td>{'created_at': 'Tue Mar 05 17:50:22 +0000 2019...</td>\n",
       "      <td>NaN</td>\n",
       "      <td>NaN</td>\n",
       "      <td>NaN</td>\n",
       "      <td>NaN</td>\n",
       "      <td>NaN</td>\n",
       "    </tr>\n",
       "    <tr>\n",
       "      <th>2</th>\n",
       "      <td>Fri Jun 10 09:39:13 +0000 2022</td>\n",
       "      <td>1535194867877683201</td>\n",
       "      <td>1535194867877683201</td>\n",
       "      <td>@weiyinglovebot blueberry cheesecake</td>\n",
       "      <td>False</td>\n",
       "      <td>{'hashtags': [], 'symbols': [], 'user_mentions...</td>\n",
       "      <td>{'iso_language_code': 'en', 'result_type': 're...</td>\n",
       "      <td>&lt;a href=\"http://twitter.com/download/android\" ...</td>\n",
       "      <td>1.535195e+18</td>\n",
       "      <td>1535194564491091971</td>\n",
       "      <td>...</td>\n",
       "      <td>0</td>\n",
       "      <td>False</td>\n",
       "      <td>False</td>\n",
       "      <td>en</td>\n",
       "      <td>NaN</td>\n",
       "      <td>NaN</td>\n",
       "      <td>NaN</td>\n",
       "      <td>NaN</td>\n",
       "      <td>NaN</td>\n",
       "      <td>NaN</td>\n",
       "    </tr>\n",
       "    <tr>\n",
       "      <th>3</th>\n",
       "      <td>Fri Jun 10 09:39:13 +0000 2022</td>\n",
       "      <td>1535194867512401920</td>\n",
       "      <td>1535194867512401920</td>\n",
       "      <td>RT @nijisanji_app: 【#にじさんじジューンブライド2022 グッズ&amp;amp...</td>\n",
       "      <td>False</td>\n",
       "      <td>{'hashtags': [{'text': 'にじさんじジューンブライド2022', 'i...</td>\n",
       "      <td>{'iso_language_code': 'ja', 'result_type': 're...</td>\n",
       "      <td>&lt;a href=\"http://twitter.com/download/android\" ...</td>\n",
       "      <td>NaN</td>\n",
       "      <td>None</td>\n",
       "      <td>...</td>\n",
       "      <td>0</td>\n",
       "      <td>False</td>\n",
       "      <td>False</td>\n",
       "      <td>ja</td>\n",
       "      <td>{'created_at': 'Fri Jun 10 09:00:22 +0000 2022...</td>\n",
       "      <td>False</td>\n",
       "      <td>NaN</td>\n",
       "      <td>NaN</td>\n",
       "      <td>NaN</td>\n",
       "      <td>NaN</td>\n",
       "    </tr>\n",
       "    <tr>\n",
       "      <th>4</th>\n",
       "      <td>Fri Jun 10 09:39:13 +0000 2022</td>\n",
       "      <td>1535194867160055808</td>\n",
       "      <td>1535194867160055808</td>\n",
       "      <td>RT @AilsaForshaw: Peanut Butter Squares \\nI ju...</td>\n",
       "      <td>False</td>\n",
       "      <td>{'hashtags': [], 'symbols': [], 'user_mentions...</td>\n",
       "      <td>{'iso_language_code': 'en', 'result_type': 're...</td>\n",
       "      <td>&lt;a href=\"https://mobile.twitter.com\" rel=\"nofo...</td>\n",
       "      <td>NaN</td>\n",
       "      <td>None</td>\n",
       "      <td>...</td>\n",
       "      <td>0</td>\n",
       "      <td>False</td>\n",
       "      <td>False</td>\n",
       "      <td>en</td>\n",
       "      <td>{'created_at': 'Sun Sep 30 01:32:12 +0000 2018...</td>\n",
       "      <td>NaN</td>\n",
       "      <td>NaN</td>\n",
       "      <td>NaN</td>\n",
       "      <td>NaN</td>\n",
       "      <td>NaN</td>\n",
       "    </tr>\n",
       "  </tbody>\n",
       "</table>\n",
       "<p>5 rows × 30 columns</p>\n",
       "</div>"
      ],
      "text/plain": [
       "                       created_at                   id               id_str  \\\n",
       "0  Fri Jun 10 09:39:24 +0000 2022  1535194914015051776  1535194914015051776   \n",
       "1  Fri Jun 10 09:39:21 +0000 2022  1535194901591166976  1535194901591166976   \n",
       "2  Fri Jun 10 09:39:13 +0000 2022  1535194867877683201  1535194867877683201   \n",
       "3  Fri Jun 10 09:39:13 +0000 2022  1535194867512401920  1535194867512401920   \n",
       "4  Fri Jun 10 09:39:13 +0000 2022  1535194867160055808  1535194867160055808   \n",
       "\n",
       "                                                text  truncated  \\\n",
       "0                                            ましろ可愛いね      False   \n",
       "1  RT @AilsaForshaw: When I make the 'Marry Me Ch...      False   \n",
       "2               @weiyinglovebot blueberry cheesecake      False   \n",
       "3  RT @nijisanji_app: 【#にじさんじジューンブライド2022 グッズ&amp...      False   \n",
       "4  RT @AilsaForshaw: Peanut Butter Squares \\nI ju...      False   \n",
       "\n",
       "                                            entities  \\\n",
       "0  {'hashtags': [], 'symbols': [], 'user_mentions...   \n",
       "1  {'hashtags': [], 'symbols': [], 'user_mentions...   \n",
       "2  {'hashtags': [], 'symbols': [], 'user_mentions...   \n",
       "3  {'hashtags': [{'text': 'にじさんじジューンブライド2022', 'i...   \n",
       "4  {'hashtags': [], 'symbols': [], 'user_mentions...   \n",
       "\n",
       "                                            metadata  \\\n",
       "0  {'iso_language_code': 'ja', 'result_type': 're...   \n",
       "1  {'iso_language_code': 'en', 'result_type': 're...   \n",
       "2  {'iso_language_code': 'en', 'result_type': 're...   \n",
       "3  {'iso_language_code': 'ja', 'result_type': 're...   \n",
       "4  {'iso_language_code': 'en', 'result_type': 're...   \n",
       "\n",
       "                                              source  in_reply_to_status_id  \\\n",
       "0  <a href=\"http://twitter.com/download/android\" ...                    NaN   \n",
       "1  <a href=\"https://mobile.twitter.com\" rel=\"nofo...                    NaN   \n",
       "2  <a href=\"http://twitter.com/download/android\" ...           1.535195e+18   \n",
       "3  <a href=\"http://twitter.com/download/android\" ...                    NaN   \n",
       "4  <a href=\"https://mobile.twitter.com\" rel=\"nofo...                    NaN   \n",
       "\n",
       "  in_reply_to_status_id_str  ...  favorite_count favorited retweeted lang  \\\n",
       "0                      None  ...               0     False     False   ja   \n",
       "1                      None  ...               0     False     False   en   \n",
       "2       1535194564491091971  ...               0     False     False   en   \n",
       "3                      None  ...               0     False     False   ja   \n",
       "4                      None  ...               0     False     False   en   \n",
       "\n",
       "                                    retweeted_status possibly_sensitive  \\\n",
       "0                                                NaN                NaN   \n",
       "1  {'created_at': 'Tue Mar 05 17:50:22 +0000 2019...                NaN   \n",
       "2                                                NaN                NaN   \n",
       "3  {'created_at': 'Fri Jun 10 09:00:22 +0000 2022...              False   \n",
       "4  {'created_at': 'Sun Sep 30 01:32:12 +0000 2018...                NaN   \n",
       "\n",
       "  extended_entities quoted_status_id  quoted_status_id_str  quoted_status  \n",
       "0               NaN              NaN                   NaN            NaN  \n",
       "1               NaN              NaN                   NaN            NaN  \n",
       "2               NaN              NaN                   NaN            NaN  \n",
       "3               NaN              NaN                   NaN            NaN  \n",
       "4               NaN              NaN                   NaN            NaN  \n",
       "\n",
       "[5 rows x 30 columns]"
      ]
     },
     "execution_count": 9,
     "metadata": {},
     "output_type": "execute_result"
    }
   ],
   "source": [
    "# Import pandas to join the DataFrames\n",
    "import pandas as pd\n",
    "\n",
    "# Concat DataFrames\n",
    "results_list_pd = pd.concat([pd.DataFrame(_['statuses']) for _ in results])\n",
    "\n",
    "# View shape of output\n",
    "results_list_pd.head()"
   ]
  },
  {
   "cell_type": "markdown",
   "id": "282de543",
   "metadata": {},
   "source": [
    "## 3. Investigate tweets\n"
   ]
  },
  {
   "cell_type": "code",
   "execution_count": 12,
   "id": "c1606e6d",
   "metadata": {},
   "outputs": [],
   "source": [
    "# Import nltk and the required resources\n",
    "import nltk\n",
    "from nltk.corpus import stopwords\n",
    "from nltk.corpus import words\n",
    "nltk.download('stopwords')\n",
    "from nltk.tokenize import word_tokenize\n",
    "\n",
    "stop_words = set(stopwords.words('english'))"
   ]
  },
  {
   "cell_type": "code",
   "execution_count": 14,
   "id": "8ef75c8b",
   "metadata": {},
   "outputs": [
    {
     "data": {
      "text/plain": [
       "\"RT @AilsaForshaw: When I make the 'Marry Me Cheesecake' (what me jokingly calls mah' fave Cherry Cheesecake! lol!), I usually make it in th…\""
      ]
     },
     "execution_count": 14,
     "metadata": {},
     "output_type": "execute_result"
    }
   ],
   "source": [
    "# Look at one raw tweet\n",
    "results_list_values[1]"
   ]
  },
  {
   "cell_type": "markdown",
   "id": "96887d05",
   "metadata": {},
   "source": [
    "#### 3.1 Breakdown each tweet into individual words using word_tokenize"
   ]
  },
  {
   "cell_type": "code",
   "execution_count": 15,
   "id": "35820525",
   "metadata": {},
   "outputs": [],
   "source": [
    "# Split up each tweet into individual words\n",
    "results_list_values_token = [word_tokenize(_) for _ in results_list_values]"
   ]
  },
  {
   "cell_type": "markdown",
   "id": "60ebc4e1",
   "metadata": {},
   "source": [
    "#### 3.2 Get a list of all english words "
   ]
  },
  {
   "cell_type": "code",
   "execution_count": 17,
   "id": "d8a5cab7",
   "metadata": {},
   "outputs": [],
   "source": [
    "# Get a list of all english words so we can exclude anything that doesnt appear on the list\n",
    "import nltk\n",
    "nltk.download('words')\n",
    "\n",
    "all_english_words = set(words.words())"
   ]
  },
  {
   "cell_type": "markdown",
   "id": "88d34391",
   "metadata": {},
   "source": [
    "#### 3.2b Pre-process results by:\n",
    "\n",
    "a) converting all words to lower case\n",
    "b) Only include alphanumeric words that are in the list of English words"
   ]
  },
  {
   "cell_type": "code",
   "execution_count": 18,
   "id": "d932fc80",
   "metadata": {},
   "outputs": [],
   "source": [
    "# Some pre-processing:\n",
    "#-- lets get every word\n",
    "#-- lets convert it to lowercase\n",
    "#-- only include if the word is alphanumeric and if it is in the list of English words.\n",
    "\n",
    "\n",
    "results_list_values_token_nostop =\\\n",
    "[[y.lower() for y in x if y.lower() not in stop_words and y.isalpha() and y.lower() in all_english_words]\\\n",
    " for x in results_list_values_token]"
   ]
  },
  {
   "cell_type": "code",
   "execution_count": 19,
   "id": "e3e237e7",
   "metadata": {},
   "outputs": [
    {
     "data": {
      "text/plain": [
       "['make', 'cheesecake', 'jokingly', 'cherry', 'cheesecake', 'usually', 'make']"
      ]
     },
     "execution_count": 19,
     "metadata": {},
     "output_type": "execute_result"
    }
   ],
   "source": [
    "# Let's have a look at the same tweet as above\n",
    "results_list_values_token_nostop[1]"
   ]
  },
  {
   "cell_type": "markdown",
   "id": "095661e9",
   "metadata": {},
   "source": [
    "# NLTK sentiment analysis \n",
    "### 1. Import NLTK"
   ]
  },
  {
   "cell_type": "code",
   "execution_count": 25,
   "id": "67864e16",
   "metadata": {},
   "outputs": [
    {
     "name": "stderr",
     "output_type": "stream",
     "text": [
      "[nltk_data] Downloading package vader_lexicon to\n",
      "[nltk_data]     /Users/hamdihassan/nltk_data...\n",
      "[nltk_data]   Package vader_lexicon is already up-to-date!\n"
     ]
    },
    {
     "data": {
      "text/plain": [
       "True"
      ]
     },
     "execution_count": 25,
     "metadata": {},
     "output_type": "execute_result"
    }
   ],
   "source": [
    "nltk.download('vader_lexicon')"
   ]
  },
  {
   "cell_type": "code",
   "execution_count": 26,
   "id": "2d348794",
   "metadata": {},
   "outputs": [],
   "source": [
    "# Import the vader classs and create a object of the analyzer called Darth Vader\n",
    "from nltk.sentiment.vader import SentimentIntensityAnalyzer\n",
    "\n",
    "# Create a variable to store the sia\n",
    "sia = SentimentIntensityAnalyzer()"
   ]
  },
  {
   "cell_type": "code",
   "execution_count": 28,
   "id": "06219181",
   "metadata": {},
   "outputs": [],
   "source": [
    "# Run through a dictionary comprehension to take every cleaned tweet \n",
    "# Next run the polarity score function on the string.\n",
    "# This will return four values in a dictionary\n",
    "\n",
    "results_list_values_token_nostop_polarity =\\\n",
    "{\" \".join(_) : sia.polarity_scores(\" \".join(_)) for _ in results_list_values_token_nostop}"
   ]
  },
  {
   "cell_type": "code",
   "execution_count": 29,
   "id": "02911757",
   "metadata": {},
   "outputs": [],
   "source": [
    "# Convert the list of dictionary results to a pandas dataframe. \n",
    "# The index is the cleaned tweet.\n",
    "# We can see some of the highly positive words \n",
    "\n",
    "polarity_pd = pd.DataFrame(results_list_values_token_nostop_polarity).T"
   ]
  },
  {
   "cell_type": "code",
   "execution_count": 30,
   "id": "847078c9",
   "metadata": {},
   "outputs": [
    {
     "data": {
      "text/html": [
       "<div>\n",
       "<style scoped>\n",
       "    .dataframe tbody tr th:only-of-type {\n",
       "        vertical-align: middle;\n",
       "    }\n",
       "\n",
       "    .dataframe tbody tr th {\n",
       "        vertical-align: top;\n",
       "    }\n",
       "\n",
       "    .dataframe thead th {\n",
       "        text-align: right;\n",
       "    }\n",
       "</style>\n",
       "<table border=\"1\" class=\"dataframe\">\n",
       "  <thead>\n",
       "    <tr style=\"text-align: right;\">\n",
       "      <th></th>\n",
       "      <th>neg</th>\n",
       "      <th>neu</th>\n",
       "      <th>pos</th>\n",
       "      <th>compound</th>\n",
       "    </tr>\n",
       "  </thead>\n",
       "  <tbody>\n",
       "    <tr>\n",
       "      <th>winner</th>\n",
       "      <td>0.0</td>\n",
       "      <td>0.0</td>\n",
       "      <td>1.0</td>\n",
       "      <td>0.5859</td>\n",
       "    </tr>\n",
       "    <tr>\n",
       "      <th>cute</th>\n",
       "      <td>0.0</td>\n",
       "      <td>0.0</td>\n",
       "      <td>1.0</td>\n",
       "      <td>0.4588</td>\n",
       "    </tr>\n",
       "    <tr>\n",
       "      <th>love</th>\n",
       "      <td>0.0</td>\n",
       "      <td>0.0</td>\n",
       "      <td>1.0</td>\n",
       "      <td>0.6369</td>\n",
       "    </tr>\n",
       "    <tr>\n",
       "      <th>peaceful</th>\n",
       "      <td>0.0</td>\n",
       "      <td>0.0</td>\n",
       "      <td>1.0</td>\n",
       "      <td>0.4939</td>\n",
       "    </tr>\n",
       "    <tr>\n",
       "      <th>beautiful</th>\n",
       "      <td>0.0</td>\n",
       "      <td>0.0</td>\n",
       "      <td>1.0</td>\n",
       "      <td>0.5994</td>\n",
       "    </tr>\n",
       "  </tbody>\n",
       "</table>\n",
       "</div>"
      ],
      "text/plain": [
       "           neg  neu  pos  compound\n",
       "winner     0.0  0.0  1.0    0.5859\n",
       "cute       0.0  0.0  1.0    0.4588\n",
       "love       0.0  0.0  1.0    0.6369\n",
       "peaceful   0.0  0.0  1.0    0.4939\n",
       "beautiful  0.0  0.0  1.0    0.5994"
      ]
     },
     "execution_count": 30,
     "metadata": {},
     "output_type": "execute_result"
    }
   ],
   "source": [
    "# Get the top 5 most positive cleaned tweets related to cheesecake\n",
    "polarity_pd.sort_values('pos', ascending=0).head(5)"
   ]
  },
  {
   "cell_type": "code",
   "execution_count": 33,
   "id": "19d2e9ee",
   "metadata": {},
   "outputs": [
    {
     "data": {
      "text/html": [
       "<div>\n",
       "<style scoped>\n",
       "    .dataframe tbody tr th:only-of-type {\n",
       "        vertical-align: middle;\n",
       "    }\n",
       "\n",
       "    .dataframe tbody tr th {\n",
       "        vertical-align: top;\n",
       "    }\n",
       "\n",
       "    .dataframe thead th {\n",
       "        text-align: right;\n",
       "    }\n",
       "</style>\n",
       "<table border=\"1\" class=\"dataframe\">\n",
       "  <thead>\n",
       "    <tr style=\"text-align: right;\">\n",
       "      <th></th>\n",
       "      <th>neg</th>\n",
       "      <th>neu</th>\n",
       "      <th>pos</th>\n",
       "      <th>compound</th>\n",
       "    </tr>\n",
       "  </thead>\n",
       "  <tbody>\n",
       "    <tr>\n",
       "      <th>slut</th>\n",
       "      <td>1.000</td>\n",
       "      <td>0.000</td>\n",
       "      <td>0.0</td>\n",
       "      <td>-0.5859</td>\n",
       "    </tr>\n",
       "    <tr>\n",
       "      <th>damn</th>\n",
       "      <td>1.000</td>\n",
       "      <td>0.000</td>\n",
       "      <td>0.0</td>\n",
       "      <td>-0.4019</td>\n",
       "    </tr>\n",
       "    <tr>\n",
       "      <th>sobbing</th>\n",
       "      <td>1.000</td>\n",
       "      <td>0.000</td>\n",
       "      <td>0.0</td>\n",
       "      <td>-0.3818</td>\n",
       "    </tr>\n",
       "    <tr>\n",
       "      <th>tired ass cheesecake</th>\n",
       "      <td>0.865</td>\n",
       "      <td>0.135</td>\n",
       "      <td>0.0</td>\n",
       "      <td>-0.7506</td>\n",
       "    </tr>\n",
       "    <tr>\n",
       "      <th>cheesecake killer</th>\n",
       "      <td>0.811</td>\n",
       "      <td>0.189</td>\n",
       "      <td>0.0</td>\n",
       "      <td>-0.6486</td>\n",
       "    </tr>\n",
       "  </tbody>\n",
       "</table>\n",
       "</div>"
      ],
      "text/plain": [
       "                        neg    neu  pos  compound\n",
       "slut                  1.000  0.000  0.0   -0.5859\n",
       "damn                  1.000  0.000  0.0   -0.4019\n",
       "sobbing               1.000  0.000  0.0   -0.3818\n",
       "tired ass cheesecake  0.865  0.135  0.0   -0.7506\n",
       "cheesecake killer     0.811  0.189  0.0   -0.6486"
      ]
     },
     "execution_count": 33,
     "metadata": {},
     "output_type": "execute_result"
    }
   ],
   "source": [
    "# Get the top 5 most negative words related to cheesecake\n",
    "polarity_pd.sort_values('neg', ascending=0).head(5)"
   ]
  },
  {
   "cell_type": "code",
   "execution_count": 34,
   "id": "168bc968",
   "metadata": {},
   "outputs": [
    {
     "data": {
      "text/plain": [
       "count    1449.000000\n",
       "mean        0.138150\n",
       "std         0.333886\n",
       "min        -0.822500\n",
       "25%         0.000000\n",
       "50%         0.000000\n",
       "75%         0.401900\n",
       "max         0.938200\n",
       "Name: compound, dtype: float64"
      ]
     },
     "execution_count": 34,
     "metadata": {},
     "output_type": "execute_result"
    }
   ],
   "source": [
    "# The describe function on the compound will show the distribution and moments. \n",
    "# The average is 0.13 so slightly positive\n",
    "polarity_pd['compound'].describe()"
   ]
  },
  {
   "cell_type": "code",
   "execution_count": null,
   "id": "24b7fcd0",
   "metadata": {},
   "outputs": [],
   "source": [
    "# Total number of results by sentiment\n",
    "\n",
    "nega = polarity_pd[(polarity_pd['compound'] <= -0.05)].value_counts().sum()\n",
    "posi = polarity_pd[(polarity_pd['compound'] >= 0.5)].value_counts().sum()\n",
    "neut =  1449 - (nega + posi)\n",
    "\n",
    "# Df containing the total results by sentiment\n",
    "df = {'negative':  [nega],\n",
    "        'positive': [posi],\n",
    "        'neutral': [neut]}\n",
    "sentiment  = pd.DataFrame(df)\n",
    "\n",
    "sent_per = sentiment.T\n",
    "\n",
    "# Percentage of results by sentiment\n",
    "sent_per['percent'] = sent_per/1449*100\n",
    "sent_per.rename(columns = {0:'count'}, inplace = True)"
   ]
  },
  {
   "cell_type": "code",
   "execution_count": 295,
   "id": "3709b91d",
   "metadata": {},
   "outputs": [
    {
     "data": {
      "image/png": "[encoded data removed]",
      "text/plain": [
       "<Figure size 576x360 with 1 Axes>"
      ]
     },
     "metadata": {},
     "output_type": "display_data"
    }
   ],
   "source": [
    "x = plt.figure(figsize=(8,5))\n",
    "sns.set(style='white')\n",
    "\n",
    "\n",
    "#create sns bar chart\n",
    "x = sns.barplot(x='sentiment', y='count', data=sent_per, palette='Set2')\n",
    "for i in x.containers:\n",
    "    x.bar_label(i,)\n",
    "    \n",
    "    \n",
    "# Plot asthetics\n",
    "x = plt.suptitle(\"count by sentiment\", fontsize=16)\n",
    "x = var = plt.xticks(rotation=45,ha=\"right\")\n"
   ]
  },
  {
   "cell_type": "code",
   "execution_count": 296,
   "id": "1dc3ea64",
   "metadata": {},
   "outputs": [
    {
     "data": {
      "image/png": "[encoded data removed]",
      "text/plain": [
       "<Figure size 576x360 with 1 Axes>"
      ]
     },
     "metadata": {},
     "output_type": "display_data"
    }
   ],
   "source": [
    "x = plt.figure(figsize=(8,5))\n",
    "sns.set(style='white')\n",
    "\n",
    "\n",
    "#create sns bar chart\n",
    "x = sns.barplot(x='sentiment', y='percent', data=sent_per, palette='Set2')\n",
    "for i in x.containers:\n",
    "    x.bar_label(i,)\n",
    "    \n",
    "# Plot asthetics\n",
    "x = plt.suptitle(\"percentage by sentiment\", fontsize=16)\n",
    "x = var = plt.xticks(rotation=45,ha=\"right\")"
   ]
  },
  {
   "cell_type": "markdown",
   "id": "a53eb00a",
   "metadata": {},
   "source": [
    "## Notes:\n",
    "\n",
    "1. The overall sentiment looks very slighlty positive at 0.13\n",
    "\n",
    "2. However if we use pypi.org typical threshold for used to determine sentiment which is:\n",
    "\n",
    "• Positive = compound score >= 0.05\n",
    "• Neutral = compound score > -0.05) and (compound score < 0.05)\n",
    "• Negative = compound score <= -0.05\n",
    "\n",
    "  Then 0.13 would be considered neutral. \n",
    "\n",
    "3. This is supported by the two visualisations above which show that 71.6% of the data is neutral while only 17.6% is positive and 10.6% is negative.\n",
    "\n",
    "These findings suggest that, at just 17.6% positvity, public sentiment does not favour the release of a new cheesecake flavoured chocolote bar.\n",
    "\n",
    "However, I feel this data is not enough to make a recommendation as this is just a general review of peoples opinions on cheesecake on a given day rather than an indepth analysis of how people actually feel about cheesecake flavoured chocolate bars."
   ]
  },
  {
   "cell_type": "code",
   "execution_count": null,
   "id": "60652dbb",
   "metadata": {},
   "outputs": [],
   "source": []
  }
 ],
 "metadata": {
  "kernelspec": {
   "display_name": "Python 3 (ipykernel)",
   "language": "python",
   "name": "python3"
  },
  "language_info": {
   "codemirror_mode": {
    "name": "ipython",
    "version": 3
   },
   "file_extension": ".py",
   "mimetype": "text/x-python",
   "name": "python",
   "nbconvert_exporter": "python",
   "pygments_lexer": "ipython3",
   "version": "3.9.7"
  }
 },
 "nbformat": 4,
 "nbformat_minor": 5
}
